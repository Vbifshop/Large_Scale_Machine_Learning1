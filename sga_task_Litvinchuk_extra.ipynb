{
  "cells": [
    {
      "cell_type": "markdown",
      "metadata": {
        "id": "9XtuBP84Y0jP"
      },
      "source": [
        "# User routes on the site\n",
        "## Description\n",
        "**Clickstream** is a sequence of user actions on a website. It allows you to understand how users interact with the site. In this task, you need to find the most frequent custom routes.\n",
        "\n",
        "## Input data\n",
        "Input data is а table with clickstream data in file `hdfs:/data/clickstream.csv`.\n",
        "\n",
        "### Table structure\n",
        "* `user_id (int)` - Unique user identifier.\n",
        "* `session_id (int)` - Unique identifier for the user session. The user's session lasts until the identifier changes.\n",
        "* `event_type (string)` - Event type from the list:\n",
        "    * **page** - visit to the page\n",
        "    * **event** - any action on the page\n",
        "    * <b>&lt;custom&gt;</b> - string with any other type\n",
        "* `event_type (string)` - Page on the site.\n",
        "* `timestamp (int)` - Unix-timestamp of action.\n",
        "\n",
        "### Browser errors\n",
        "Errors can sometimes occur in the user's browser - after such an error appears, we can no longer trust the data of this session and all the following lines after the error or at the same time with it are considered corrupted and **should not be counted** in statistics.\n",
        "\n",
        "When an error occurs on the page, a random string containing the word **error** will be written to the `event_type` field.\n",
        "\n",
        "### Sample of user session\n",
        "<pre>\n",
        "+-------+----------+------------+----------+----------+\n",
        "|user_id|session_id|  event_type|event_page| timestamp|\n",
        "+-------+----------+------------+----------+----------+\n",
        "|    562|       507|        page|      main|1620494781|\n",
        "|    562|       507|       event|      main|1620494788|\n",
        "|    562|       507|       event|      main|1620494798|\n",
        "|    562|       507|        page|    family|1620494820|\n",
        "|    562|       507|       event|    family|1620494828|\n",
        "|    562|       507|        page|      main|1620494848|\n",
        "|    562|       507|wNaxLlerrorU|      main|1620494865|\n",
        "|    562|       507|       event|      main|1620494873|\n",
        "|    562|       507|        page|      news|1620494875|\n",
        "|    562|       507|        page|   tariffs|1620494876|\n",
        "|    562|       507|       event|   tariffs|1620494884|\n",
        "|    562|       514|        page|      main|1620728918|\n",
        "|    562|       514|       event|      main|1620729174|\n",
        "|    562|       514|        page|   archive|1620729674|\n",
        "|    562|       514|        page|     bonus|1620729797|\n",
        "|    562|       514|        page|   tariffs|1620731090|\n",
        "|    562|       514|       event|   tariffs|1620731187|\n",
        "+-------+----------+------------+----------+----------+\n",
        "</pre>\n",
        "\n",
        "#### Correct user routes for a given user:\n",
        "* **Session 507**: main-family-main\n",
        "* **Session 514**: main-archive-bonus-tariffs\n",
        "\n",
        "Route elements are ordered by the time they appear in the clickstream, from earliest to latest.\n",
        "\n",
        "The route must be accounted for completely before the end of the session or an error in the session.\n",
        "\n",
        "## Task\n",
        "You need to use the Spark SQL, Spark RDD and Spark DF interfaces to create a solution file, the lines of which contain **the 30 most frequent user routes** on the site.\n",
        "\n",
        "Each line of the file should contain the `route` and `count` values **separated by tabs**, where:\n",
        "* `route` - route on the site, consisting of pages separated by \"-\".\n",
        "* `count` - the number of user sessions in which this route was.\n",
        "\n",
        "The lines must be **ordered in descending order** of the `count` field.\n",
        "\n",
        "## Criteria\n",
        "You can get maximum of 3.5 points (final grade) for this assignment, depedning on the number of interface you manage to leverage. The criteria are as follows:\n",
        "\n",
        "* 0.5 points – Spark SQL solution with 1 query\n",
        "* 0.5 points – Spark SQL solution with <=2 queries\n",
        "* 0.5 points – Spark RDD solution\n",
        "* 0.5 points – Spark DF solution\n",
        "* 0.5 points – your solution algorithm is relatively optimized, i.e.: no O^2 or O^3 complexities; appropriate object usage; no data leaks etc. This is evaluated by staff.\n",
        "* 1 point – 1 on 1 screening session. During this session staff member can ask you questions regarding your solution logic, framework usage, questionable parts of your code etc. If your code is clean enough, the staff member can just ask you to solve a theoretical problem connected to Spark.\n"
      ]
    },
    {
      "cell_type": "markdown",
      "metadata": {
        "id": "bovNedwSY0jT"
      },
      "source": [
        "# Spark SQL (1.0 point - Spark SQL solution with <=2 queries)"
      ]
    },
    {
      "cell_type": "markdown",
      "metadata": {
        "id": "MX7_u2JXY0jT",
        "tags": []
      },
      "source": [
        "## Solution with <=2 queries"
      ]
    },
    {
      "cell_type": "code",
      "execution_count": null,
      "metadata": {
        "id": "2yxBme70Y0jT",
        "tags": []
      },
      "outputs": [],
      "source": [
        "import findspark\n",
        "findspark.init()\n",
        "\n",
        "import json\n",
        "import pyspark\n",
        "from pyspark.sql import SparkSession, Row"
      ]
    },
    {
      "cell_type": "code",
      "execution_count": null,
      "metadata": {
        "id": "g3DHy6kwY0jU",
        "outputId": "6b610d0c-347e-4261-d0a3-6bcd73c457db",
        "tags": []
      },
      "outputs": [
        {
          "name": "stderr",
          "output_type": "stream",
          "text": [
            "Setting default log level to \"WARN\".\n",
            "To adjust logging level use sc.setLogLevel(newLevel). For SparkR, use setLogLevel(newLevel).\n",
            "2024-11-07 20:15:12,109 WARN yarn.Client: Neither spark.yarn.jars nor spark.yarn.archive is set, falling back to uploading libraries under SPARK_HOME.\n"
          ]
        }
      ],
      "source": [
        "sc = pyspark.SparkContext(appName='jupyter')\n",
        "se = SparkSession(sc)"
      ]
    },
    {
      "cell_type": "code",
      "execution_count": null,
      "metadata": {
        "id": "xvUf2m7vY0jV",
        "outputId": "d0976114-7bb7-48c6-c4cc-d41f934c3fd4",
        "tags": []
      },
      "outputs": [
        {
          "name": "stdout",
          "output_type": "stream",
          "text": [
            "copyFromLocal: `/work/sga_task_Litvinchuk (1) (1).ipynb': File exists\n",
            "copyFromLocal: `/work/.ipynb_checkpoints/sga_task_Litvinchuk (1) (1)-checkpoint.ipynb': File exists\n",
            "copyFromLocal: `/work/sga-task.ipynb': File exists\n",
            "copyFromLocal: `/work/hdfs-task.ipynb': File exists\n",
            "copyFromLocal: `/work/clickstream.csv': File exists\n"
          ]
        }
      ],
      "source": [
        "! hadoop fs -copyFromLocal . /"
      ]
    },
    {
      "cell_type": "code",
      "execution_count": null,
      "metadata": {
        "id": "-8HI_g0VY0jV",
        "outputId": "e6bd48f2-2dbf-40a0-8197-0d25148506f9",
        "tags": []
      },
      "outputs": [
        {
          "name": "stdout",
          "output_type": "stream",
          "text": [
            "Found 1 items\n",
            "drwxr-xr-x   - jovyan supergroup          0 2024-11-07 20:15 .sparkStaging\n",
            "Found 2 items\n",
            "-rw-r--r--   1 root   supergroup     30.7 M 2023-09-24 20:38 /data/clickstream.csv\n",
            "drwxr-xr-x   - root   supergroup          0 2023-09-24 20:38 /data/transactions\n"
          ]
        }
      ],
      "source": [
        "! hadoop fs -ls -h . /data"
      ]
    },
    {
      "cell_type": "code",
      "execution_count": null,
      "metadata": {
        "id": "L36XzSp_Y0jV",
        "outputId": "e6384e4a-9949-45fb-beca-6acd5eed28d2",
        "tags": []
      },
      "outputs": [
        {
          "name": "stderr",
          "output_type": "stream",
          "text": [
            "                                                                                \r"
          ]
        },
        {
          "data": {
            "text/html": [
              "<div>\n",
              "<style scoped>\n",
              "    .dataframe tbody tr th:only-of-type {\n",
              "        vertical-align: middle;\n",
              "    }\n",
              "\n",
              "    .dataframe tbody tr th {\n",
              "        vertical-align: top;\n",
              "    }\n",
              "\n",
              "    .dataframe thead th {\n",
              "        text-align: right;\n",
              "    }\n",
              "</style>\n",
              "<table border=\"1\" class=\"dataframe\">\n",
              "  <thead>\n",
              "    <tr style=\"text-align: right;\">\n",
              "      <th></th>\n",
              "      <th>user_id</th>\n",
              "      <th>session_id</th>\n",
              "      <th>event_type</th>\n",
              "      <th>event_page</th>\n",
              "      <th>timestamp</th>\n",
              "    </tr>\n",
              "  </thead>\n",
              "  <tbody>\n",
              "    <tr>\n",
              "      <th>0</th>\n",
              "      <td>562</td>\n",
              "      <td>507</td>\n",
              "      <td>page</td>\n",
              "      <td>main</td>\n",
              "      <td>1695584127</td>\n",
              "    </tr>\n",
              "    <tr>\n",
              "      <th>1</th>\n",
              "      <td>562</td>\n",
              "      <td>507</td>\n",
              "      <td>event</td>\n",
              "      <td>main</td>\n",
              "      <td>1695584134</td>\n",
              "    </tr>\n",
              "  </tbody>\n",
              "</table>\n",
              "</div>"
            ],
            "text/plain": [
              "  user_id session_id event_type event_page   timestamp\n",
              "0     562        507       page       main  1695584127\n",
              "1     562        507      event       main  1695584134"
            ]
          },
          "execution_count": 5,
          "metadata": {},
          "output_type": "execute_result"
        }
      ],
      "source": [
        "df_clickstream = se.read.options(delimiter=\"\\t\", header=True).csv(\"hdfs:///data/clickstream.csv\")\n",
        "df_clickstream.registerTempTable(\"clickstream\")\n",
        "df_clickstream.limit(2).toPandas()"
      ]
    },
    {
      "cell_type": "code",
      "execution_count": null,
      "metadata": {
        "id": "cCDgzHWuY0jV",
        "outputId": "2ede5d6a-e36e-45ec-ebe9-52e0cfb4049c",
        "tags": []
      },
      "outputs": [
        {
          "name": "stderr",
          "output_type": "stream",
          "text": [
            "                                                                                \r"
          ]
        },
        {
          "data": {
            "text/html": [
              "<div>\n",
              "<style scoped>\n",
              "    .dataframe tbody tr th:only-of-type {\n",
              "        vertical-align: middle;\n",
              "    }\n",
              "\n",
              "    .dataframe tbody tr th {\n",
              "        vertical-align: top;\n",
              "    }\n",
              "\n",
              "    .dataframe thead th {\n",
              "        text-align: right;\n",
              "    }\n",
              "</style>\n",
              "<table border=\"1\" class=\"dataframe\">\n",
              "  <thead>\n",
              "    <tr style=\"text-align: right;\">\n",
              "      <th></th>\n",
              "      <th>user_id</th>\n",
              "      <th>session_id</th>\n",
              "      <th>event_type</th>\n",
              "      <th>event_page</th>\n",
              "      <th>timestamp</th>\n",
              "    </tr>\n",
              "  </thead>\n",
              "  <tbody>\n",
              "    <tr>\n",
              "      <th>0</th>\n",
              "      <td>562</td>\n",
              "      <td>507</td>\n",
              "      <td>page</td>\n",
              "      <td>main</td>\n",
              "      <td>1695584127</td>\n",
              "    </tr>\n",
              "    <tr>\n",
              "      <th>1</th>\n",
              "      <td>562</td>\n",
              "      <td>507</td>\n",
              "      <td>event</td>\n",
              "      <td>main</td>\n",
              "      <td>1695584134</td>\n",
              "    </tr>\n",
              "    <tr>\n",
              "      <th>2</th>\n",
              "      <td>562</td>\n",
              "      <td>507</td>\n",
              "      <td>event</td>\n",
              "      <td>main</td>\n",
              "      <td>1695584144</td>\n",
              "    </tr>\n",
              "    <tr>\n",
              "      <th>3</th>\n",
              "      <td>562</td>\n",
              "      <td>507</td>\n",
              "      <td>event</td>\n",
              "      <td>main</td>\n",
              "      <td>1695584147</td>\n",
              "    </tr>\n",
              "    <tr>\n",
              "      <th>4</th>\n",
              "      <td>562</td>\n",
              "      <td>507</td>\n",
              "      <td>wNaxLlerrorU</td>\n",
              "      <td>main</td>\n",
              "      <td>1695584154</td>\n",
              "    </tr>\n",
              "    <tr>\n",
              "      <th>5</th>\n",
              "      <td>562</td>\n",
              "      <td>507</td>\n",
              "      <td>event</td>\n",
              "      <td>main</td>\n",
              "      <td>1695584154</td>\n",
              "    </tr>\n",
              "    <tr>\n",
              "      <th>6</th>\n",
              "      <td>562</td>\n",
              "      <td>507</td>\n",
              "      <td>event</td>\n",
              "      <td>main</td>\n",
              "      <td>1695584154</td>\n",
              "    </tr>\n",
              "    <tr>\n",
              "      <th>7</th>\n",
              "      <td>562</td>\n",
              "      <td>507</td>\n",
              "      <td>event</td>\n",
              "      <td>main</td>\n",
              "      <td>1695584160</td>\n",
              "    </tr>\n",
              "    <tr>\n",
              "      <th>8</th>\n",
              "      <td>562</td>\n",
              "      <td>507</td>\n",
              "      <td>page</td>\n",
              "      <td>rabota</td>\n",
              "      <td>1695584166</td>\n",
              "    </tr>\n",
              "    <tr>\n",
              "      <th>9</th>\n",
              "      <td>562</td>\n",
              "      <td>507</td>\n",
              "      <td>event</td>\n",
              "      <td>rabota</td>\n",
              "      <td>1695584174</td>\n",
              "    </tr>\n",
              "    <tr>\n",
              "      <th>10</th>\n",
              "      <td>562</td>\n",
              "      <td>507</td>\n",
              "      <td>event</td>\n",
              "      <td>rabota</td>\n",
              "      <td>1695584181</td>\n",
              "    </tr>\n",
              "    <tr>\n",
              "      <th>11</th>\n",
              "      <td>562</td>\n",
              "      <td>507</td>\n",
              "      <td>event</td>\n",
              "      <td>rabota</td>\n",
              "      <td>1695584189</td>\n",
              "    </tr>\n",
              "    <tr>\n",
              "      <th>12</th>\n",
              "      <td>562</td>\n",
              "      <td>507</td>\n",
              "      <td>page</td>\n",
              "      <td>main</td>\n",
              "      <td>1695584194</td>\n",
              "    </tr>\n",
              "    <tr>\n",
              "      <th>13</th>\n",
              "      <td>562</td>\n",
              "      <td>507</td>\n",
              "      <td>event</td>\n",
              "      <td>main</td>\n",
              "      <td>1695584204</td>\n",
              "    </tr>\n",
              "    <tr>\n",
              "      <th>14</th>\n",
              "      <td>562</td>\n",
              "      <td>507</td>\n",
              "      <td>event</td>\n",
              "      <td>main</td>\n",
              "      <td>1695584211</td>\n",
              "    </tr>\n",
              "    <tr>\n",
              "      <th>15</th>\n",
              "      <td>562</td>\n",
              "      <td>507</td>\n",
              "      <td>event</td>\n",
              "      <td>main</td>\n",
              "      <td>1695584211</td>\n",
              "    </tr>\n",
              "    <tr>\n",
              "      <th>16</th>\n",
              "      <td>562</td>\n",
              "      <td>507</td>\n",
              "      <td>event</td>\n",
              "      <td>main</td>\n",
              "      <td>1695584219</td>\n",
              "    </tr>\n",
              "    <tr>\n",
              "      <th>17</th>\n",
              "      <td>562</td>\n",
              "      <td>507</td>\n",
              "      <td>page</td>\n",
              "      <td>bonus</td>\n",
              "      <td>1695584221</td>\n",
              "    </tr>\n",
              "    <tr>\n",
              "      <th>18</th>\n",
              "      <td>562</td>\n",
              "      <td>507</td>\n",
              "      <td>page</td>\n",
              "      <td>online</td>\n",
              "      <td>1695584222</td>\n",
              "    </tr>\n",
              "    <tr>\n",
              "      <th>19</th>\n",
              "      <td>562</td>\n",
              "      <td>507</td>\n",
              "      <td>event</td>\n",
              "      <td>online</td>\n",
              "      <td>1695584230</td>\n",
              "    </tr>\n",
              "    <tr>\n",
              "      <th>20</th>\n",
              "      <td>3539</td>\n",
              "      <td>849</td>\n",
              "      <td>page</td>\n",
              "      <td>main</td>\n",
              "      <td>1695584238</td>\n",
              "    </tr>\n",
              "  </tbody>\n",
              "</table>\n",
              "</div>"
            ],
            "text/plain": [
              "   user_id session_id    event_type event_page   timestamp\n",
              "0      562        507          page       main  1695584127\n",
              "1      562        507         event       main  1695584134\n",
              "2      562        507         event       main  1695584144\n",
              "3      562        507         event       main  1695584147\n",
              "4      562        507  wNaxLlerrorU       main  1695584154\n",
              "5      562        507         event       main  1695584154\n",
              "6      562        507         event       main  1695584154\n",
              "7      562        507         event       main  1695584160\n",
              "8      562        507          page     rabota  1695584166\n",
              "9      562        507         event     rabota  1695584174\n",
              "10     562        507         event     rabota  1695584181\n",
              "11     562        507         event     rabota  1695584189\n",
              "12     562        507          page       main  1695584194\n",
              "13     562        507         event       main  1695584204\n",
              "14     562        507         event       main  1695584211\n",
              "15     562        507         event       main  1695584211\n",
              "16     562        507         event       main  1695584219\n",
              "17     562        507          page      bonus  1695584221\n",
              "18     562        507          page     online  1695584222\n",
              "19     562        507         event     online  1695584230\n",
              "20    3539        849          page       main  1695584238"
            ]
          },
          "execution_count": 6,
          "metadata": {},
          "output_type": "execute_result"
        }
      ],
      "source": [
        "df_clickstream.limit(21).toPandas()"
      ]
    },
    {
      "cell_type": "code",
      "execution_count": null,
      "metadata": {
        "id": "v-1tLPjmY0jW",
        "tags": []
      },
      "outputs": [],
      "source": [
        "sql30 = se.sql(\n",
        "\"\"\"\n",
        "WITH cte_error AS (\n",
        "    SELECT\n",
        "        user_id,\n",
        "        session_id,\n",
        "        timestamp,\n",
        "        True is_error\n",
        "    FROM\n",
        "        clickstream\n",
        "    WHERE\n",
        "        event_type LIKE \"%error%\"),\n",
        "\n",
        "    cte_shift_event AS (\n",
        "    SELECT\n",
        "        user_id,\n",
        "        session_id,\n",
        "        event_type,\n",
        "        event_page,\n",
        "        timestamp,\n",
        "        LAG(event_page) OVER (PARTITION BY user_id, session_id ORDER BY timestamp ASC) next_event\n",
        "    FROM\n",
        "        clickstream),\n",
        "\n",
        "    cte_join_error_and_shift_event AS (\n",
        "    SELECT\n",
        "        cl.user_id,\n",
        "        cl.session_id,\n",
        "        cl.event_type,\n",
        "        cl.event_page,\n",
        "        cl.timestamp,\n",
        "        cl.next_event,\n",
        "        err.is_error\n",
        "    FROM cte_shift_event cl\n",
        "    LEFT JOIN cte_error err\n",
        "    ON\n",
        "        cl.user_id = err.user_id\n",
        "        AND cl.session_id = err.session_id\n",
        "        AND cl.timestamp >= err.timestamp),\n",
        "\n",
        "    cte_event_without_error AS (\n",
        "    SELECT\n",
        "        user_id,\n",
        "        session_id,\n",
        "        event_page\n",
        "    FROM cte_join_error_and_shift_event\n",
        "    WHERE\n",
        "        is_error IS NULL\n",
        "        AND NOT event_page = next_event\n",
        "        OR next_event IS NULL),\n",
        "\n",
        "    cte_routes AS (\n",
        "    SELECT\n",
        "        CONCAT_WS('-', COLLECT_LIST(event_page)) route\n",
        "    FROM\n",
        "        cte_event_without_error\n",
        "    GROUP BY\n",
        "        user_id, session_id\n",
        "    ORDER\n",
        "        BY user_id, session_id)\n",
        "\n",
        "SELECT\n",
        "    route,\n",
        "    COUNT(*) count\n",
        "FROM\n",
        "    cte_routes\n",
        "GROUP BY\n",
        "    route\n",
        "ORDER BY\n",
        "    count DESC\n",
        "LIMIT 30;\n",
        "\"\"\"\n",
        ")"
      ]
    },
    {
      "cell_type": "code",
      "execution_count": null,
      "metadata": {
        "id": "IeolrNS-Y0jW",
        "outputId": "10b2f94e-3ded-4865-de76-2ec2280a30c1",
        "tags": []
      },
      "outputs": [
        {
          "data": {
            "text/html": [
              "<div>\n",
              "<style scoped>\n",
              "    .dataframe tbody tr th:only-of-type {\n",
              "        vertical-align: middle;\n",
              "    }\n",
              "\n",
              "    .dataframe tbody tr th {\n",
              "        vertical-align: top;\n",
              "    }\n",
              "\n",
              "    .dataframe thead th {\n",
              "        text-align: right;\n",
              "    }\n",
              "</style>\n",
              "<table border=\"1\" class=\"dataframe\">\n",
              "  <thead>\n",
              "    <tr style=\"text-align: right;\">\n",
              "      <th></th>\n",
              "      <th>route</th>\n",
              "      <th>count</th>\n",
              "    </tr>\n",
              "  </thead>\n",
              "  <tbody>\n",
              "    <tr>\n",
              "      <th>0</th>\n",
              "      <td>main</td>\n",
              "      <td>8184</td>\n",
              "    </tr>\n",
              "    <tr>\n",
              "      <th>1</th>\n",
              "      <td>main-archive</td>\n",
              "      <td>1111</td>\n",
              "    </tr>\n",
              "    <tr>\n",
              "      <th>2</th>\n",
              "      <td>main-rabota</td>\n",
              "      <td>1045</td>\n",
              "    </tr>\n",
              "    <tr>\n",
              "      <th>3</th>\n",
              "      <td>main-internet</td>\n",
              "      <td>896</td>\n",
              "    </tr>\n",
              "    <tr>\n",
              "      <th>4</th>\n",
              "      <td>main-bonus</td>\n",
              "      <td>870</td>\n",
              "    </tr>\n",
              "    <tr>\n",
              "      <th>5</th>\n",
              "      <td>main-news</td>\n",
              "      <td>769</td>\n",
              "    </tr>\n",
              "    <tr>\n",
              "      <th>6</th>\n",
              "      <td>main-tariffs</td>\n",
              "      <td>677</td>\n",
              "    </tr>\n",
              "    <tr>\n",
              "      <th>7</th>\n",
              "      <td>main-online</td>\n",
              "      <td>587</td>\n",
              "    </tr>\n",
              "    <tr>\n",
              "      <th>8</th>\n",
              "      <td>main-vklad</td>\n",
              "      <td>518</td>\n",
              "    </tr>\n",
              "    <tr>\n",
              "      <th>9</th>\n",
              "      <td>main-rabota-archive</td>\n",
              "      <td>170</td>\n",
              "    </tr>\n",
              "    <tr>\n",
              "      <th>10</th>\n",
              "      <td>main-archive-rabota</td>\n",
              "      <td>167</td>\n",
              "    </tr>\n",
              "    <tr>\n",
              "      <th>11</th>\n",
              "      <td>main-bonus-archive</td>\n",
              "      <td>143</td>\n",
              "    </tr>\n",
              "    <tr>\n",
              "      <th>12</th>\n",
              "      <td>main-rabota-bonus</td>\n",
              "      <td>139</td>\n",
              "    </tr>\n",
              "    <tr>\n",
              "      <th>13</th>\n",
              "      <td>main-news-rabota</td>\n",
              "      <td>135</td>\n",
              "    </tr>\n",
              "    <tr>\n",
              "      <th>14</th>\n",
              "      <td>main-bonus-rabota</td>\n",
              "      <td>135</td>\n",
              "    </tr>\n",
              "    <tr>\n",
              "      <th>15</th>\n",
              "      <td>main-archive-internet</td>\n",
              "      <td>132</td>\n",
              "    </tr>\n",
              "    <tr>\n",
              "      <th>16</th>\n",
              "      <td>main-rabota-news</td>\n",
              "      <td>130</td>\n",
              "    </tr>\n",
              "    <tr>\n",
              "      <th>17</th>\n",
              "      <td>main-internet-rabota</td>\n",
              "      <td>129</td>\n",
              "    </tr>\n",
              "    <tr>\n",
              "      <th>18</th>\n",
              "      <td>main-archive-news</td>\n",
              "      <td>126</td>\n",
              "    </tr>\n",
              "    <tr>\n",
              "      <th>19</th>\n",
              "      <td>main-rabota-internet</td>\n",
              "      <td>124</td>\n",
              "    </tr>\n",
              "    <tr>\n",
              "      <th>20</th>\n",
              "      <td>main-internet-archive</td>\n",
              "      <td>123</td>\n",
              "    </tr>\n",
              "    <tr>\n",
              "      <th>21</th>\n",
              "      <td>main-archive-bonus</td>\n",
              "      <td>117</td>\n",
              "    </tr>\n",
              "    <tr>\n",
              "      <th>22</th>\n",
              "      <td>main-internet-bonus</td>\n",
              "      <td>115</td>\n",
              "    </tr>\n",
              "    <tr>\n",
              "      <th>23</th>\n",
              "      <td>main-tariffs-internet</td>\n",
              "      <td>114</td>\n",
              "    </tr>\n",
              "    <tr>\n",
              "      <th>24</th>\n",
              "      <td>main-news-archive</td>\n",
              "      <td>113</td>\n",
              "    </tr>\n",
              "    <tr>\n",
              "      <th>25</th>\n",
              "      <td>main-news-internet</td>\n",
              "      <td>109</td>\n",
              "    </tr>\n",
              "    <tr>\n",
              "      <th>26</th>\n",
              "      <td>main-archive-tariffs</td>\n",
              "      <td>104</td>\n",
              "    </tr>\n",
              "    <tr>\n",
              "      <th>27</th>\n",
              "      <td>main-internet-news</td>\n",
              "      <td>103</td>\n",
              "    </tr>\n",
              "    <tr>\n",
              "      <th>28</th>\n",
              "      <td>main-tariffs-archive</td>\n",
              "      <td>103</td>\n",
              "    </tr>\n",
              "    <tr>\n",
              "      <th>29</th>\n",
              "      <td>main-rabota-main</td>\n",
              "      <td>94</td>\n",
              "    </tr>\n",
              "  </tbody>\n",
              "</table>\n",
              "</div>"
            ],
            "text/plain": [
              "                    route  count\n",
              "0                    main   8184\n",
              "1            main-archive   1111\n",
              "2             main-rabota   1045\n",
              "3           main-internet    896\n",
              "4              main-bonus    870\n",
              "5               main-news    769\n",
              "6            main-tariffs    677\n",
              "7             main-online    587\n",
              "8              main-vklad    518\n",
              "9     main-rabota-archive    170\n",
              "10    main-archive-rabota    167\n",
              "11     main-bonus-archive    143\n",
              "12      main-rabota-bonus    139\n",
              "13       main-news-rabota    135\n",
              "14      main-bonus-rabota    135\n",
              "15  main-archive-internet    132\n",
              "16       main-rabota-news    130\n",
              "17   main-internet-rabota    129\n",
              "18      main-archive-news    126\n",
              "19   main-rabota-internet    124\n",
              "20  main-internet-archive    123\n",
              "21     main-archive-bonus    117\n",
              "22    main-internet-bonus    115\n",
              "23  main-tariffs-internet    114\n",
              "24      main-news-archive    113\n",
              "25     main-news-internet    109\n",
              "26   main-archive-tariffs    104\n",
              "27     main-internet-news    103\n",
              "28   main-tariffs-archive    103\n",
              "29       main-rabota-main     94"
            ]
          },
          "execution_count": 30,
          "metadata": {},
          "output_type": "execute_result"
        }
      ],
      "source": [
        "sql30.toPandas()"
      ]
    },
    {
      "cell_type": "code",
      "execution_count": null,
      "metadata": {
        "id": "xmJAyt4HY0jW",
        "tags": []
      },
      "outputs": [],
      "source": [
        "sql30.toPandas().set_index('route')['count'].to_json('sql_solution.json')"
      ]
    },
    {
      "cell_type": "code",
      "execution_count": null,
      "metadata": {
        "id": "p7MIr8irY0jX",
        "tags": []
      },
      "outputs": [],
      "source": [
        "sql30.toPandas().to_csv('sql_solution.csv', sep='\\t', index=False)"
      ]
    },
    {
      "cell_type": "code",
      "execution_count": null,
      "metadata": {
        "id": "Ya0SbLjJY0jX"
      },
      "outputs": [],
      "source": []
    },
    {
      "cell_type": "markdown",
      "metadata": {
        "id": "IHAgJwpaY0jX"
      },
      "source": [
        "## Description"
      ]
    },
    {
      "cell_type": "markdown",
      "metadata": {
        "id": "h6C5mj7NY0jX",
        "tags": []
      },
      "source": [
        "Common table expressions are used for better code readability.\n",
        "\n",
        "1)\n",
        "```\n",
        "cte_error AS (\n",
        "SELECT\n",
        "    user_id,\n",
        "    session_id,\n",
        "    timestamp,\n",
        "    True is_error\n",
        "FROM\n",
        "    clickstream\n",
        "WHERE\n",
        "    event_type LIKE \"%error%\")\n",
        "```\n",
        "\n",
        "This part is for identifying events where there is an error."
      ]
    },
    {
      "cell_type": "code",
      "execution_count": null,
      "metadata": {
        "id": "INVrny58Y0jX",
        "outputId": "15e47bab-80e5-4d8a-f2d5-7c02b7dff5ee",
        "tags": []
      },
      "outputs": [
        {
          "data": {
            "text/html": [
              "<div>\n",
              "<style scoped>\n",
              "    .dataframe tbody tr th:only-of-type {\n",
              "        vertical-align: middle;\n",
              "    }\n",
              "\n",
              "    .dataframe tbody tr th {\n",
              "        vertical-align: top;\n",
              "    }\n",
              "\n",
              "    .dataframe thead th {\n",
              "        text-align: right;\n",
              "    }\n",
              "</style>\n",
              "<table border=\"1\" class=\"dataframe\">\n",
              "  <thead>\n",
              "    <tr style=\"text-align: right;\">\n",
              "      <th></th>\n",
              "      <th>user_id</th>\n",
              "      <th>session_id</th>\n",
              "      <th>timestamp</th>\n",
              "      <th>event_type</th>\n",
              "      <th>is_error</th>\n",
              "    </tr>\n",
              "  </thead>\n",
              "  <tbody>\n",
              "    <tr>\n",
              "      <th>0</th>\n",
              "      <td>562</td>\n",
              "      <td>507</td>\n",
              "      <td>1695584154</td>\n",
              "      <td>wNaxLlerrorU</td>\n",
              "      <td>True</td>\n",
              "    </tr>\n",
              "    <tr>\n",
              "      <th>1</th>\n",
              "      <td>4567</td>\n",
              "      <td>514</td>\n",
              "      <td>1695584351</td>\n",
              "      <td>mAXExoCXerror</td>\n",
              "      <td>True</td>\n",
              "    </tr>\n",
              "    <tr>\n",
              "      <th>2</th>\n",
              "      <td>461</td>\n",
              "      <td>174</td>\n",
              "      <td>1695584529</td>\n",
              "      <td>uvjferrorYYwYlubX</td>\n",
              "      <td>True</td>\n",
              "    </tr>\n",
              "    <tr>\n",
              "      <th>3</th>\n",
              "      <td>844</td>\n",
              "      <td>258</td>\n",
              "      <td>1695584652</td>\n",
              "      <td>kfIpzqTUaerrorSQD</td>\n",
              "      <td>True</td>\n",
              "    </tr>\n",
              "    <tr>\n",
              "      <th>4</th>\n",
              "      <td>461</td>\n",
              "      <td>174</td>\n",
              "      <td>1695584698</td>\n",
              "      <td>iVerrornrA</td>\n",
              "      <td>True</td>\n",
              "    </tr>\n",
              "    <tr>\n",
              "      <th>5</th>\n",
              "      <td>805</td>\n",
              "      <td>626</td>\n",
              "      <td>1695585321</td>\n",
              "      <td>KMerroregFAtiwWL</td>\n",
              "      <td>True</td>\n",
              "    </tr>\n",
              "    <tr>\n",
              "      <th>6</th>\n",
              "      <td>4567</td>\n",
              "      <td>514</td>\n",
              "      <td>1695586124</td>\n",
              "      <td>HMJRIuGerrorHmdW</td>\n",
              "      <td>True</td>\n",
              "    </tr>\n",
              "    <tr>\n",
              "      <th>7</th>\n",
              "      <td>3972</td>\n",
              "      <td>31</td>\n",
              "      <td>1695586342</td>\n",
              "      <td>verrorDc</td>\n",
              "      <td>True</td>\n",
              "    </tr>\n",
              "    <tr>\n",
              "      <th>8</th>\n",
              "      <td>512</td>\n",
              "      <td>781</td>\n",
              "      <td>1695586400</td>\n",
              "      <td>WYQWVerror</td>\n",
              "      <td>True</td>\n",
              "    </tr>\n",
              "    <tr>\n",
              "      <th>9</th>\n",
              "      <td>512</td>\n",
              "      <td>781</td>\n",
              "      <td>1695586562</td>\n",
              "      <td>JCXPLQZerrorvaBt</td>\n",
              "      <td>True</td>\n",
              "    </tr>\n",
              "  </tbody>\n",
              "</table>\n",
              "</div>"
            ],
            "text/plain": [
              "  user_id session_id   timestamp         event_type  is_error\n",
              "0     562        507  1695584154       wNaxLlerrorU      True\n",
              "1    4567        514  1695584351      mAXExoCXerror      True\n",
              "2     461        174  1695584529  uvjferrorYYwYlubX      True\n",
              "3     844        258  1695584652  kfIpzqTUaerrorSQD      True\n",
              "4     461        174  1695584698         iVerrornrA      True\n",
              "5     805        626  1695585321   KMerroregFAtiwWL      True\n",
              "6    4567        514  1695586124   HMJRIuGerrorHmdW      True\n",
              "7    3972         31  1695586342           verrorDc      True\n",
              "8     512        781  1695586400         WYQWVerror      True\n",
              "9     512        781  1695586562   JCXPLQZerrorvaBt      True"
            ]
          },
          "execution_count": 9,
          "metadata": {},
          "output_type": "execute_result"
        }
      ],
      "source": [
        "#example\n",
        "se.sql(\"\"\"\n",
        "SELECT\n",
        "    user_id,\n",
        "    session_id,\n",
        "    timestamp,\n",
        "    event_type,\n",
        "    True is_error\n",
        "FROM\n",
        "    clickstream\n",
        "WHERE\n",
        "    event_type LIKE \"%error%\"\n",
        "LIMIT 10;\n",
        "\"\"\").toPandas()"
      ]
    },
    {
      "cell_type": "markdown",
      "metadata": {
        "id": "PfdaqCdVY0jY"
      },
      "source": [
        "2)\n",
        "```\n",
        "cte_shift_event AS (\n",
        "SELECT\n",
        "    user_id,\n",
        "    session_id,\n",
        "    event_type,\n",
        "    event_page,\n",
        "    timestamp,\n",
        "    LAG(event_page) OVER (PARTITION BY user_id, session_id ORDER BY timestamp ASC) next_event\n",
        "FROM\n",
        "    clickstream)\n",
        "```\n",
        "In this part, we set a shift to determine the user's next event in the session. If you just look at the pages (event_type = page), the statistics will be distorted by duplicate visits to the page."
      ]
    },
    {
      "cell_type": "code",
      "execution_count": null,
      "metadata": {
        "id": "Ect4tKa1Y0jY",
        "outputId": "3b86fb06-09be-4027-8a7b-e21875effd5f",
        "tags": []
      },
      "outputs": [
        {
          "name": "stderr",
          "output_type": "stream",
          "text": [
            "                                                                                \r"
          ]
        },
        {
          "data": {
            "text/html": [
              "<div>\n",
              "<style scoped>\n",
              "    .dataframe tbody tr th:only-of-type {\n",
              "        vertical-align: middle;\n",
              "    }\n",
              "\n",
              "    .dataframe tbody tr th {\n",
              "        vertical-align: top;\n",
              "    }\n",
              "\n",
              "    .dataframe thead th {\n",
              "        text-align: right;\n",
              "    }\n",
              "</style>\n",
              "<table border=\"1\" class=\"dataframe\">\n",
              "  <thead>\n",
              "    <tr style=\"text-align: right;\">\n",
              "      <th></th>\n",
              "      <th>user_id</th>\n",
              "      <th>session_id</th>\n",
              "      <th>event_type</th>\n",
              "      <th>event_page</th>\n",
              "      <th>timestamp</th>\n",
              "      <th>next_event</th>\n",
              "    </tr>\n",
              "  </thead>\n",
              "  <tbody>\n",
              "    <tr>\n",
              "      <th>0</th>\n",
              "      <td>1</td>\n",
              "      <td>1026</td>\n",
              "      <td>page</td>\n",
              "      <td>main</td>\n",
              "      <td>1700148765</td>\n",
              "      <td>None</td>\n",
              "    </tr>\n",
              "    <tr>\n",
              "      <th>1</th>\n",
              "      <td>10</td>\n",
              "      <td>762</td>\n",
              "      <td>page</td>\n",
              "      <td>main</td>\n",
              "      <td>1699442253</td>\n",
              "      <td>None</td>\n",
              "    </tr>\n",
              "    <tr>\n",
              "      <th>2</th>\n",
              "      <td>10</td>\n",
              "      <td>762</td>\n",
              "      <td>page</td>\n",
              "      <td>internet</td>\n",
              "      <td>1699442893</td>\n",
              "      <td>main</td>\n",
              "    </tr>\n",
              "    <tr>\n",
              "      <th>3</th>\n",
              "      <td>10</td>\n",
              "      <td>762</td>\n",
              "      <td>event</td>\n",
              "      <td>internet</td>\n",
              "      <td>1699443462</td>\n",
              "      <td>internet</td>\n",
              "    </tr>\n",
              "    <tr>\n",
              "      <th>4</th>\n",
              "      <td>10</td>\n",
              "      <td>762</td>\n",
              "      <td>event</td>\n",
              "      <td>internet</td>\n",
              "      <td>1699444244</td>\n",
              "      <td>internet</td>\n",
              "    </tr>\n",
              "    <tr>\n",
              "      <th>5</th>\n",
              "      <td>10</td>\n",
              "      <td>762</td>\n",
              "      <td>event</td>\n",
              "      <td>internet</td>\n",
              "      <td>1699445640</td>\n",
              "      <td>internet</td>\n",
              "    </tr>\n",
              "    <tr>\n",
              "      <th>6</th>\n",
              "      <td>10</td>\n",
              "      <td>762</td>\n",
              "      <td>event</td>\n",
              "      <td>internet</td>\n",
              "      <td>1699449575</td>\n",
              "      <td>internet</td>\n",
              "    </tr>\n",
              "    <tr>\n",
              "      <th>7</th>\n",
              "      <td>10</td>\n",
              "      <td>762</td>\n",
              "      <td>event</td>\n",
              "      <td>internet</td>\n",
              "      <td>1699450822</td>\n",
              "      <td>internet</td>\n",
              "    </tr>\n",
              "    <tr>\n",
              "      <th>8</th>\n",
              "      <td>10</td>\n",
              "      <td>762</td>\n",
              "      <td>page</td>\n",
              "      <td>archive</td>\n",
              "      <td>1699450919</td>\n",
              "      <td>internet</td>\n",
              "    </tr>\n",
              "    <tr>\n",
              "      <th>9</th>\n",
              "      <td>10</td>\n",
              "      <td>762</td>\n",
              "      <td>page</td>\n",
              "      <td>bonus</td>\n",
              "      <td>1699451247</td>\n",
              "      <td>archive</td>\n",
              "    </tr>\n",
              "  </tbody>\n",
              "</table>\n",
              "</div>"
            ],
            "text/plain": [
              "  user_id session_id event_type event_page   timestamp next_event\n",
              "0       1       1026       page       main  1700148765       None\n",
              "1      10        762       page       main  1699442253       None\n",
              "2      10        762       page   internet  1699442893       main\n",
              "3      10        762      event   internet  1699443462   internet\n",
              "4      10        762      event   internet  1699444244   internet\n",
              "5      10        762      event   internet  1699445640   internet\n",
              "6      10        762      event   internet  1699449575   internet\n",
              "7      10        762      event   internet  1699450822   internet\n",
              "8      10        762       page    archive  1699450919   internet\n",
              "9      10        762       page      bonus  1699451247    archive"
            ]
          },
          "execution_count": 10,
          "metadata": {},
          "output_type": "execute_result"
        }
      ],
      "source": [
        "#example\n",
        "se.sql(\"\"\"\n",
        "SELECT\n",
        "    *,\n",
        "    LAG(event_page) OVER (PARTITION BY user_id, session_id ORDER BY timestamp ASC) next_event\n",
        "FROM\n",
        "    clickstream\n",
        "LIMIT 10;\n",
        "\"\"\").toPandas()"
      ]
    },
    {
      "cell_type": "markdown",
      "metadata": {
        "id": "edIqICO-Y0jY"
      },
      "source": [
        "3)\n",
        "```\n",
        "cte_join_error_and_shift_event AS (\n",
        "SELECT\n",
        "    cl.user_id,\n",
        "    cl.session_id,\n",
        "    cl.event_type,\n",
        "    cl.event_page,\n",
        "    cl.timestamp,\n",
        "    cl.next_event,\n",
        "    err.is_error\n",
        "FROM cte_shift_event cl\n",
        "LEFT JOIN cte_error err\n",
        "ON\n",
        "    cl.user_id = err.user_id\n",
        "    AND cl.session_id = err.session_id\n",
        "    AND cl.timestamp >= err.timestamp)\n",
        "```\n",
        "Here we join  the two previous parts related to the user and the session, and extend previously defined errors by a time equal to or greater than the time the error occurred in the user's session.\n",
        "\n",
        "4)\n",
        "```\n",
        "cte_event_without_error AS (\n",
        "SELECT\n",
        "    user_id,\n",
        "    session_id,\n",
        "    event_page\n",
        "FROM cte_join_error_and_shift_event\n",
        "WHERE\n",
        "    is_error IS NULL\n",
        "    AND NOT event_page = next_event\n",
        "    OR next_event IS NULL)\n",
        "```\n",
        "Additionally filter events, leaving those in which there are no errors and where the user changed the page during the session.\n",
        "\n",
        "5)\n",
        "```\n",
        "cte_routes AS (\n",
        "SELECT\n",
        "    CONCAT_WS('-', COLLECT_LIST(event_page)) route\n",
        "FROM\n",
        "    cte_event_without_error\n",
        "GROUP BY\n",
        "    user_id, session_id\n",
        "ORDER\n",
        "    BY user_id, session_id)\n",
        "```\n",
        "Next, we group the data by user and session. And we make a list of events based on grouped data."
      ]
    },
    {
      "cell_type": "code",
      "execution_count": null,
      "metadata": {
        "id": "7cI1dZnRY0jY",
        "outputId": "8f4cafe0-114f-4f53-9260-d36d158de4d6",
        "tags": []
      },
      "outputs": [
        {
          "name": "stderr",
          "output_type": "stream",
          "text": [
            "                                                                                \r"
          ]
        },
        {
          "data": {
            "text/html": [
              "<div>\n",
              "<style scoped>\n",
              "    .dataframe tbody tr th:only-of-type {\n",
              "        vertical-align: middle;\n",
              "    }\n",
              "\n",
              "    .dataframe tbody tr th {\n",
              "        vertical-align: top;\n",
              "    }\n",
              "\n",
              "    .dataframe thead th {\n",
              "        text-align: right;\n",
              "    }\n",
              "</style>\n",
              "<table border=\"1\" class=\"dataframe\">\n",
              "  <thead>\n",
              "    <tr style=\"text-align: right;\">\n",
              "      <th></th>\n",
              "      <th>route</th>\n",
              "    </tr>\n",
              "  </thead>\n",
              "  <tbody>\n",
              "    <tr>\n",
              "      <th>0</th>\n",
              "      <td>main</td>\n",
              "    </tr>\n",
              "    <tr>\n",
              "      <th>1</th>\n",
              "      <td>main-internet-archive-bonus-internet-main-rabo...</td>\n",
              "    </tr>\n",
              "    <tr>\n",
              "      <th>2</th>\n",
              "      <td>main-bonus-internet-online</td>\n",
              "    </tr>\n",
              "    <tr>\n",
              "      <th>3</th>\n",
              "      <td>main-news-internet-rabota-bonus</td>\n",
              "    </tr>\n",
              "    <tr>\n",
              "      <th>4</th>\n",
              "      <td>main-archive</td>\n",
              "    </tr>\n",
              "    <tr>\n",
              "      <th>5</th>\n",
              "      <td>main</td>\n",
              "    </tr>\n",
              "    <tr>\n",
              "      <th>6</th>\n",
              "      <td>main-internet-main-rabota-vklad-online-news-in...</td>\n",
              "    </tr>\n",
              "  </tbody>\n",
              "</table>\n",
              "</div>"
            ],
            "text/plain": [
              "                                               route\n",
              "0                                               main\n",
              "1  main-internet-archive-bonus-internet-main-rabo...\n",
              "2                         main-bonus-internet-online\n",
              "3                    main-news-internet-rabota-bonus\n",
              "4                                       main-archive\n",
              "5                                               main\n",
              "6  main-internet-main-rabota-vklad-online-news-in..."
            ]
          },
          "execution_count": 11,
          "metadata": {},
          "output_type": "execute_result"
        }
      ],
      "source": [
        "#example\n",
        "se.sql(\"\"\"\n",
        "SELECT\n",
        "    CONCAT_WS('-', COLLECT_LIST(event_page)) route\n",
        "FROM (\n",
        "    SELECT\n",
        "        user_id,\n",
        "        session_id,\n",
        "        event_page\n",
        "    FROM (\n",
        "        SELECT\n",
        "            cl.user_id,\n",
        "            cl.session_id,\n",
        "            cl.event_type,\n",
        "            cl.event_page,\n",
        "            cl.timestamp,\n",
        "            cl.next_event,\n",
        "            err.is_error\n",
        "        FROM (\n",
        "            SELECT\n",
        "                *,\n",
        "                LAG(event_page) OVER (PARTITION BY user_id, session_id ORDER BY timestamp ASC) next_event\n",
        "            FROM\n",
        "                clickstream\n",
        "            LIMIT 100) cl\n",
        "        LEFT JOIN (\n",
        "            SELECT\n",
        "                user_id,\n",
        "                session_id,\n",
        "                timestamp,\n",
        "                True is_error\n",
        "            FROM\n",
        "                clickstream\n",
        "            WHERE\n",
        "                event_type LIKE \"%error%\") err\n",
        "        ON\n",
        "            cl.user_id = err.user_id\n",
        "            AND cl.session_id = err.session_id\n",
        "            AND cl.timestamp >= err.timestamp\n",
        "        ORDER BY\n",
        "            cl.user_id, cl.session_id, cl.timestamp) temp\n",
        "    WHERE\n",
        "        is_error IS NULL\n",
        "        AND NOT event_page = next_event\n",
        "        OR next_event IS NULL) temp1\n",
        "GROUP BY\n",
        "    user_id, session_id\n",
        "ORDER\n",
        "    BY user_id, session_id;\n",
        "\"\"\").toPandas()"
      ]
    },
    {
      "cell_type": "markdown",
      "metadata": {
        "id": "9TWBWGSuY0jY"
      },
      "source": [
        "5)\n",
        "```\n",
        "SELECT\n",
        "    route,\n",
        "    COUNT(*) count\n",
        "FROM\n",
        "    cte_routes\n",
        "GROUP BY\n",
        "    route\n",
        "ORDER BY\n",
        "    count DESC\n",
        "LIMIT 30;\n",
        "```\n",
        "At the end, we group the data according to the list of events (routes), count their number and sort them in descending order, leaving the top 30."
      ]
    },
    {
      "cell_type": "code",
      "execution_count": null,
      "metadata": {
        "id": "eps0MbQDY0jZ"
      },
      "outputs": [],
      "source": []
    },
    {
      "cell_type": "markdown",
      "metadata": {
        "id": "BLk7IuPoY0jZ"
      },
      "source": [
        "# Spark RDD"
      ]
    },
    {
      "cell_type": "markdown",
      "metadata": {
        "id": "UEsa5Yt8Y0jZ"
      },
      "source": [
        "## Solution"
      ]
    },
    {
      "cell_type": "code",
      "execution_count": null,
      "metadata": {
        "id": "Y8Yco90sY0jZ",
        "tags": []
      },
      "outputs": [],
      "source": [
        "rdd = sc.textFile(\"hdfs:///data/clickstream.csv\")"
      ]
    },
    {
      "cell_type": "code",
      "execution_count": null,
      "metadata": {
        "id": "5vTQI7wpY0jZ",
        "tags": []
      },
      "outputs": [],
      "source": [
        "def mapper(x):\n",
        "    lst = x.split(\"\\t\")\n",
        "    return [(lst[1], lst[0]), [lst[4], [lst[2], lst[3], lst[2].find(\"error\")]]]"
      ]
    },
    {
      "cell_type": "code",
      "execution_count": null,
      "metadata": {
        "id": "EOWGH0QKY0jZ",
        "tags": []
      },
      "outputs": [],
      "source": [
        "def mapper_error(x):\n",
        "    found_error = False\n",
        "    last_route = None\n",
        "    for event in x[1]:\n",
        "        if found_error:\n",
        "            event[1][2] = 1\n",
        "        elif event[1][2] > -1:\n",
        "            found_error = True\n",
        "            event[1][2] = 1\n",
        "        if last_route is None:\n",
        "            last_route = event[1][1]\n",
        "            event[1].append(None)\n",
        "        else:\n",
        "            event[1].append(last_route)\n",
        "            last_route = event[1][1]\n",
        "    return x"
      ]
    },
    {
      "cell_type": "code",
      "execution_count": null,
      "metadata": {
        "id": "aGTMaOxbY0jZ",
        "tags": []
      },
      "outputs": [],
      "source": [
        "def demapper(x):\n",
        "    out = []\n",
        "    for elem in x[1]:\n",
        "        out.append([x[0], elem])\n",
        "    return out"
      ]
    },
    {
      "cell_type": "code",
      "execution_count": null,
      "metadata": {
        "id": "PgnM0x3NY0jZ",
        "tags": []
      },
      "outputs": [],
      "source": [
        "def get_route(x):\n",
        "    routes = []\n",
        "    for event in x[1]:\n",
        "        routes.append(event[1][1])\n",
        "    return [x[0], \"-\".join(routes)]"
      ]
    },
    {
      "cell_type": "code",
      "execution_count": null,
      "metadata": {
        "id": "IGJyW-k4Y0jZ",
        "outputId": "04915a60-882e-4467-e04a-2f8402ca6ab9",
        "tags": []
      },
      "outputs": [
        {
          "name": "stderr",
          "output_type": "stream",
          "text": [
            "                                                                                \r"
          ]
        }
      ],
      "source": [
        "rdd30 = (\n",
        "    rdd\n",
        "    .map(mapper)\n",
        "    .filter(lambda x: x[0][0] != \"session_id\")\n",
        "    .groupByKey()\n",
        "    .map(lambda x: [x[0], list(x[1])])\n",
        "    .map(mapper_error)\n",
        "    .flatMap(demapper)\n",
        "    .filter(lambda x: x[1][1][2] == -1 and x[1][1][1] != x[1][1][3])\n",
        "    .groupByKey()\n",
        "    .map(lambda x: [x[0], list(x[1])])\n",
        "    .map(get_route)\n",
        "    .flatMap(lambda x: [(x[1], 1)])\n",
        "    .groupByKey()\n",
        "    .map(lambda x: (x[0], len(x[1])))\n",
        "    .sortBy(lambda x: -x[1])\n",
        ")"
      ]
    },
    {
      "cell_type": "code",
      "execution_count": null,
      "metadata": {
        "id": "vT7WxVOzY0jZ",
        "outputId": "0094c2fc-c80d-46a1-c669-ac6460e5c756",
        "tags": []
      },
      "outputs": [
        {
          "name": "stderr",
          "output_type": "stream",
          "text": [
            "                                                                                \r"
          ]
        },
        {
          "data": {
            "text/plain": [
              "[('main', 8185),\n",
              " ('main-archive', 1113),\n",
              " ('main-rabota', 1047),\n",
              " ('main-internet', 897),\n",
              " ('main-bonus', 870),\n",
              " ('main-news', 769),\n",
              " ('main-tariffs', 677),\n",
              " ('main-online', 587),\n",
              " ('main-vklad', 518),\n",
              " ('main-rabota-archive', 170),\n",
              " ('main-archive-rabota', 167),\n",
              " ('main-bonus-archive', 143),\n",
              " ('main-rabota-bonus', 139),\n",
              " ('main-news-rabota', 135),\n",
              " ('main-bonus-rabota', 135),\n",
              " ('main-archive-internet', 132),\n",
              " ('main-rabota-news', 130),\n",
              " ('main-internet-rabota', 129),\n",
              " ('main-archive-news', 126),\n",
              " ('main-rabota-internet', 124),\n",
              " ('main-internet-archive', 123),\n",
              " ('main-archive-bonus', 117),\n",
              " ('main-internet-bonus', 115),\n",
              " ('main-news-archive', 113),\n",
              " ('main-tariffs-internet', 113),\n",
              " ('main-news-internet', 109),\n",
              " ('main-archive-tariffs', 104),\n",
              " ('main-internet-news', 103),\n",
              " ('main-tariffs-archive', 103),\n",
              " ('main-rabota-main', 94)]"
            ]
          },
          "execution_count": 31,
          "metadata": {},
          "output_type": "execute_result"
        }
      ],
      "source": [
        "rdd30.take(30)"
      ]
    },
    {
      "cell_type": "code",
      "execution_count": null,
      "metadata": {
        "id": "jc-w4pe9Y0ja",
        "outputId": "c84791f7-1a35-4ffd-c218-39f12a73edfc",
        "tags": []
      },
      "outputs": [
        {
          "name": "stderr",
          "output_type": "stream",
          "text": [
            "                                                                                \r"
          ]
        }
      ],
      "source": [
        "rdd30.toDF().toPandas()[:30].set_index('_1')['_2'].to_json('rdd_solution.json')"
      ]
    },
    {
      "cell_type": "code",
      "execution_count": null,
      "metadata": {
        "id": "VZgRlfloY0ja",
        "outputId": "d1dbc188-79a4-4dcc-b7df-d7ba5d7b5cc1",
        "tags": []
      },
      "outputs": [
        {
          "name": "stderr",
          "output_type": "stream",
          "text": [
            "                                                                                \r"
          ]
        }
      ],
      "source": [
        "rdd30.toDF().toPandas()[:30].rename(columns={'_1':'route', '_2':'count'}).to_csv('rdd_solution.csv', sep='\\t', index=False)"
      ]
    },
    {
      "cell_type": "code",
      "execution_count": null,
      "metadata": {
        "id": "t_G3HuedY0ja"
      },
      "outputs": [],
      "source": []
    },
    {
      "cell_type": "markdown",
      "metadata": {
        "id": "N76E0bWiY0ja"
      },
      "source": [
        "## Description"
      ]
    },
    {
      "cell_type": "markdown",
      "metadata": {
        "id": "ki9q7oRyY0ja"
      },
      "source": [
        "1)\n",
        "```\n",
        "def mapper(x):\n",
        "    lst = x.split(\"\\t\")\n",
        "    return [(lst[1], lst[0]), [lst[4], [lst[2], lst[3], lst[2].find(\"error\")]]]\n",
        "```\n",
        "A mapper for creating a data structure."
      ]
    },
    {
      "cell_type": "code",
      "execution_count": null,
      "metadata": {
        "id": "ldZ6PrtXY0ja",
        "outputId": "c75497a4-af4f-4621-abdb-bc11b928ce21",
        "tags": []
      },
      "outputs": [
        {
          "data": {
            "text/plain": [
              "[('507', '562'), ['1695584127', ['page', 'main', -1]]]"
            ]
          },
          "execution_count": 22,
          "metadata": {},
          "output_type": "execute_result"
        }
      ],
      "source": [
        "#example\n",
        "#print(rdd.take(2))\n",
        "#mapper('user_id\\tsession_id\\tevent_type\\tevent_page\\ttimestamp')\n",
        "mapper('562\\t507\\tpage\\tmain\\t1695584127')"
      ]
    },
    {
      "cell_type": "markdown",
      "metadata": {
        "id": "0O5gSQ24Y0ja"
      },
      "source": [
        "2)\n",
        "```\n",
        "def mapper_error(x):    \n",
        "    found_error = False\n",
        "    last_route = None    \n",
        "    for event in x[1]:        \n",
        "        if found_error:\n",
        "            event[1][2] = 1\n",
        "        elif event[1][2] > -1:\n",
        "            found_error = True\n",
        "            event[1][2] = 1        \n",
        "        if last_route is None:\n",
        "            last_route = event[1][1]\n",
        "            event[1].append(None)\n",
        "        else:\n",
        "            event[1].append(last_route)\n",
        "            last_route = event[1][1]            \n",
        "    return x\n",
        "```\n",
        "A mapper for marking lines with or after an error: if there is an error, it is 1, if not, then -1."
      ]
    },
    {
      "cell_type": "code",
      "execution_count": null,
      "metadata": {
        "id": "kE_PeN_iY0jb",
        "outputId": "4d4d485a-723b-408e-c17d-f92d56fc7a41",
        "tags": []
      },
      "outputs": [
        {
          "data": {
            "text/plain": [
              "[('507', '562'),\n",
              " [['1695584127', ['page', 'main', -1, None]],\n",
              "  ['1695584134', ['event', 'main', -1, 'main']],\n",
              "  ['1695584144', ['event', 'main', -1, 'main']],\n",
              "  ['1695584147', ['event', 'main', -1, 'main']],\n",
              "  ['1695584154', ['wNaxLlerrorU', 'main', 1, 'main']],\n",
              "  ['1695584154', ['event', 'main', 1, 'main']],\n",
              "  ['1695584154', ['event', 'main', 1, 'main']],\n",
              "  ['1695584160', ['event', 'main', 1, 'main']],\n",
              "  ['1695584166', ['page', 'rabota', 1, 'main']]]]"
            ]
          },
          "execution_count": 23,
          "metadata": {},
          "output_type": "execute_result"
        }
      ],
      "source": [
        "#example\n",
        "#rdd.map(mapper).take(10)\n",
        "mapper_error([('507', '562'),\n",
        "            [['1695584127', ['page', 'main', -1]],\n",
        "             ['1695584134', ['event', 'main', -1]],\n",
        "             ['1695584144', ['event', 'main', -1]],\n",
        "             ['1695584147', ['event', 'main', -1]],\n",
        "             ['1695584154', ['wNaxLlerrorU', 'main', 6]],\n",
        "             ['1695584154', ['event', 'main', -1]],\n",
        "             ['1695584154', ['event', 'main', -1]],\n",
        "             ['1695584160', ['event', 'main', -1]],\n",
        "             ['1695584166', ['page', 'rabota', -1]]]]\n",
        "            )"
      ]
    },
    {
      "cell_type": "markdown",
      "metadata": {
        "id": "z7Y_Ljg7Y0jb"
      },
      "source": [
        "3)\n",
        "```\n",
        "def demapper(x):    \n",
        "    out = []    \n",
        "    for elem in x[1]:\n",
        "        out.append([x[0], elem])        \n",
        "    return out\n",
        "```\n",
        "A mapper for assigning event data to each user session."
      ]
    },
    {
      "cell_type": "code",
      "execution_count": null,
      "metadata": {
        "id": "v31Y0ITIY0jb",
        "outputId": "2c9fa516-bed5-437a-caf7-3bedccfb7b28",
        "tags": []
      },
      "outputs": [
        {
          "data": {
            "text/plain": [
              "[[('507', '562'), ['1695584127', ['page', 'main', -1, None]]],\n",
              " [('507', '562'), ['1695584134', ['event', 'main', -1, 'main']]],\n",
              " [('507', '562'), ['1695584144', ['event', 'main', -1, 'main']]],\n",
              " [('507', '562'), ['1695584147', ['event', 'main', -1, 'main']]],\n",
              " [('507', '562'), ['1695584154', ['wNaxLlerrorU', 'main', 1, 'main']]],\n",
              " [('507', '562'), ['1695584154', ['event', 'main', 1, 'main']]],\n",
              " [('507', '562'), ['1695584154', ['event', 'main', 1, 'main']]],\n",
              " [('507', '562'), ['1695584160', ['event', 'main', 1, 'main']]],\n",
              " [('507', '562'), ['1695584166', ['page', 'rabota', 1, 'main']]]]"
            ]
          },
          "execution_count": 24,
          "metadata": {},
          "output_type": "execute_result"
        }
      ],
      "source": [
        "#example\n",
        "demapper([('507', '562'),\n",
        "         [['1695584127', ['page', 'main', -1, None]],\n",
        "          ['1695584134', ['event', 'main', -1, 'main']],\n",
        "          ['1695584144', ['event', 'main', -1, 'main']],\n",
        "          ['1695584147', ['event', 'main', -1, 'main']],\n",
        "          ['1695584154', ['wNaxLlerrorU', 'main', 1, 'main']],\n",
        "          ['1695584154', ['event', 'main', 1, 'main']],\n",
        "          ['1695584154', ['event', 'main', 1, 'main']],\n",
        "          ['1695584160', ['event', 'main', 1, 'main']],\n",
        "          ['1695584166', ['page', 'rabota', 1, 'main']]]]\n",
        "        )"
      ]
    },
    {
      "cell_type": "markdown",
      "metadata": {
        "id": "JJC3Zt8uY0jb"
      },
      "source": [
        "4)\n",
        "```\n",
        "def get_route(x):    \n",
        "    routes = []    \n",
        "    for event in x[1]:\n",
        "        routes.append(event[1][1])        \n",
        "    return [x[0], \"-\".join(routes)]\n",
        "```\n",
        "A mapper for getting routes from a list of data"
      ]
    },
    {
      "cell_type": "code",
      "execution_count": null,
      "metadata": {
        "id": "8ZXsNKgXY0jb",
        "outputId": "922cf4d3-75b0-4472-c696-97f2b0561ac7",
        "tags": []
      },
      "outputs": [
        {
          "data": {
            "text/plain": [
              "[('60', '3204'), 'main-internet']"
            ]
          },
          "execution_count": 25,
          "metadata": {},
          "output_type": "execute_result"
        }
      ],
      "source": [
        "#example\n",
        "get_route([('60', '3204'),\n",
        "          [['1695589018', ['page', 'main', -1, None]],\n",
        "           ['1695589071', ['page', 'internet', -1, 'main']]]]\n",
        "         )"
      ]
    },
    {
      "cell_type": "markdown",
      "metadata": {
        "id": "yWQXilpKY0jb"
      },
      "source": [
        "5)\n",
        "```\n",
        ".map(mapper)  \n",
        ".filter(lambda x: x[0][0] != \"session_id\")\n",
        ".groupByKey()\n",
        ".map(lambda x: [x[0], list(x[1])])\n",
        ".map(mapper_error)\n",
        ".flatMap(demapper)\n",
        ".filter(lambda x: x[1][1][2] == -1 and x[1][1][1] != x[1][1][3])\n",
        ".groupByKey()\n",
        ".map(lambda x: [x[0], list(x[1])])\n",
        ".map(get_route)\n",
        ".flatMap(lambda x: [(x[1], 1)])\n",
        ".groupByKey()\n",
        ".map(lambda x: (x[0], len(x[1])))\n",
        ".sortBy(lambda x: -x[1])\n",
        ".take(30)\n",
        "```\n",
        "The main part:\n",
        "\n",
        "**.map(mapper)**\n",
        "\n",
        "- creating a data structure\n",
        "\n",
        "**.filter(lambda x: x[0][0] != \"session_id\")**\n",
        "    \n",
        "- removing the header with the filter\n",
        "\n",
        "**.groupByKey()**\n",
        "\n",
        "- grouping by user and session\n",
        "\n",
        "**.map(lambda x: [x[0], list(x[1])])**\n",
        "    \n",
        "- forming a list of time, events and error index\n",
        "\n",
        "**.map(mapper_error)**\n",
        "\n",
        "- marking up errors\n",
        "\n",
        "**.flatMap(demapper)**\n",
        "\n",
        "- assigning event data to each user session\n",
        "\n",
        "**.filter(lambda x: x[1][1][2] == -1 and x[1][1][1] != x[1][1][3])**\n",
        "    \n",
        "- filter and leave the data error-free and with page changes\n",
        "\n",
        "**.groupByKey()**\n",
        "\n",
        "- grouping by user and session\n",
        "\n",
        "**.map(lambda x: [x[0], list(x[1])])**\n",
        "\n",
        "- getting a list of grouped data\n",
        "\n",
        "**.map(get_route)**\n",
        "\n",
        "- create roots from the list of events\n",
        "\n",
        "**.flatMap(lambda x: [(x[1], 1)])**\n",
        "    \n",
        "- leaving only the roots and the number of 1\n",
        "\n",
        "**.groupByKey()**\n",
        "    \n",
        "- grouping them by the name of the roots\n",
        "\n",
        "**.map(lambda x: (x[0], len(x[1])))**\n",
        "\n",
        "- counting the number of each of the roots\n",
        "\n",
        "**.sortBy(lambda x: -x[1])**\n",
        "- sorting in descending order of quantity\n",
        "\n",
        "**.take(30)**\n",
        "\n",
        "- bringing out the top 30\n"
      ]
    },
    {
      "cell_type": "code",
      "execution_count": null,
      "metadata": {
        "id": "0LbweztxY0jc"
      },
      "outputs": [],
      "source": []
    },
    {
      "cell_type": "markdown",
      "metadata": {
        "id": "2hEkppUxY0jc"
      },
      "source": [
        "# Spark DF"
      ]
    },
    {
      "cell_type": "markdown",
      "metadata": {
        "id": "5P-pYk-AY0jc"
      },
      "source": [
        "## Solution"
      ]
    },
    {
      "cell_type": "code",
      "execution_count": null,
      "metadata": {
        "id": "K8LIueQ7Y0jc",
        "tags": []
      },
      "outputs": [],
      "source": [
        "from pyspark.sql import functions as F\n",
        "from pyspark.sql.types import StringType\n",
        "from pyspark.sql.window import Window"
      ]
    },
    {
      "cell_type": "code",
      "execution_count": null,
      "metadata": {
        "id": "Jdgu6d5cY0jc",
        "tags": []
      },
      "outputs": [],
      "source": [
        "convert = F.udf(lambda x: \"-\".join(x), StringType())"
      ]
    },
    {
      "cell_type": "code",
      "execution_count": null,
      "metadata": {
        "id": "frk5HcQBY0jc",
        "outputId": "191f98db-83ad-4bb5-81ca-afd7fe4a9d21",
        "tags": []
      },
      "outputs": [
        {
          "name": "stdout",
          "output_type": "stream",
          "text": [
            "+-------+----------+----------+--------+\n",
            "|user_id|session_id| timestamp|is_error|\n",
            "+-------+----------+----------+--------+\n",
            "|    562|       507|1695584154|    true|\n",
            "|   4567|       514|1695584351|    true|\n",
            "|    461|       174|1695584529|    true|\n",
            "|    844|       258|1695584652|    true|\n",
            "|    461|       174|1695584698|    true|\n",
            "|    805|       626|1695585321|    true|\n",
            "|   4567|       514|1695586124|    true|\n",
            "|   3972|        31|1695586342|    true|\n",
            "|    512|       781|1695586400|    true|\n",
            "|    512|       781|1695586562|    true|\n",
            "+-------+----------+----------+--------+\n",
            "only showing top 10 rows\n",
            "\n"
          ]
        }
      ],
      "source": [
        "df_error = (\n",
        "    df_clickstream\n",
        "    .withColumn(\"is_error\", F.col(\"event_type\").contains(\"error\"))\n",
        "    .filter(\"is_error == True\")\n",
        "    .select(\"user_id\", \"session_id\", \"timestamp\", \"is_error\")\n",
        ")\n",
        "\n",
        "df_error.show(10)"
      ]
    },
    {
      "cell_type": "code",
      "execution_count": null,
      "metadata": {
        "id": "rJbUzxxQY0jc",
        "tags": []
      },
      "outputs": [],
      "source": [
        "df30 = (\n",
        "    df_clickstream\n",
        "    .alias(\"cl\")\n",
        "    .withColumn(\"next_event\",\n",
        "                F.lag(\"event_page\",1)\n",
        "                .over(Window.partitionBy(\"user_id\", \"session_id\").orderBy(\"timestamp\")))\n",
        "    .join(df_error.alias(\"err\"),\n",
        "          (F.col(\"cl.user_id\") == F.col(\"err.user_id\")) &\n",
        "          (F.col(\"cl.session_id\") == F.col(\"err.session_id\")) &\n",
        "          (F.col(\"cl.timestamp\") >= F.col(\"err.timestamp\")),\n",
        "         how = \"left\")\n",
        "    .filter(\"is_error is null\")\n",
        "    .filter(\"next_event <> event_page OR next_event is null\")\n",
        "    .groupby('cl.user_id', 'cl.session_id')\n",
        "    .agg(F.collect_list(\"event_page\").alias(\"route\"))\n",
        "    .withColumn(\"route\", convert(F.col(\"route\")))\n",
        "    .groupby(\"route\")\n",
        "    .count()\n",
        "    .sort(F.desc(\"count\"))\n",
        ")"
      ]
    },
    {
      "cell_type": "code",
      "execution_count": null,
      "metadata": {
        "id": "QedU5SnnY0jc",
        "outputId": "bf93fcd8-bbe2-4e5c-acfe-735b8da15844",
        "tags": []
      },
      "outputs": [
        {
          "name": "stderr",
          "output_type": "stream",
          "text": [
            "[Stage 100:==================================================>    (12 + 1) / 13]\r"
          ]
        },
        {
          "name": "stdout",
          "output_type": "stream",
          "text": [
            "+---------------------+-----+\n",
            "|route                |count|\n",
            "+---------------------+-----+\n",
            "|main                 |8184 |\n",
            "|main-archive         |1111 |\n",
            "|main-rabota          |1045 |\n",
            "|main-internet        |896  |\n",
            "|main-bonus           |870  |\n",
            "|main-news            |769  |\n",
            "|main-tariffs         |677  |\n",
            "|main-online          |587  |\n",
            "|main-vklad           |518  |\n",
            "|main-rabota-archive  |170  |\n",
            "|main-archive-rabota  |167  |\n",
            "|main-bonus-archive   |143  |\n",
            "|main-rabota-bonus    |139  |\n",
            "|main-news-rabota     |135  |\n",
            "|main-bonus-rabota    |135  |\n",
            "|main-archive-internet|132  |\n",
            "|main-rabota-news     |130  |\n",
            "|main-internet-rabota |129  |\n",
            "|main-archive-news    |126  |\n",
            "|main-rabota-internet |124  |\n",
            "|main-internet-archive|123  |\n",
            "|main-archive-bonus   |117  |\n",
            "|main-internet-bonus  |115  |\n",
            "|main-tariffs-internet|114  |\n",
            "|main-news-archive    |113  |\n",
            "|main-news-internet   |109  |\n",
            "|main-archive-tariffs |104  |\n",
            "|main-internet-news   |103  |\n",
            "|main-tariffs-archive |103  |\n",
            "|main-rabota-main     |94   |\n",
            "+---------------------+-----+\n",
            "only showing top 30 rows\n",
            "\n"
          ]
        },
        {
          "name": "stderr",
          "output_type": "stream",
          "text": [
            "                                                                                \r"
          ]
        }
      ],
      "source": [
        "df30.show(30, False)"
      ]
    },
    {
      "cell_type": "code",
      "execution_count": null,
      "metadata": {
        "id": "EhKHBgoNY0jd",
        "tags": [],
        "outputId": "f824afed-51db-4db7-b02b-35ab84953b51"
      },
      "outputs": [
        {
          "name": "stderr",
          "output_type": "stream",
          "text": [
            "                                                                                \r"
          ]
        }
      ],
      "source": [
        "df30.toPandas()[:30].set_index('route')['count'].to_json('df_solution.json')"
      ]
    },
    {
      "cell_type": "code",
      "execution_count": null,
      "metadata": {
        "id": "2Xend-m-Y0jd",
        "tags": []
      },
      "outputs": [],
      "source": [
        "df30.toPandas()[:30].to_csv('df_solution.csv', sep='\\t', index=False)"
      ]
    },
    {
      "cell_type": "code",
      "execution_count": null,
      "metadata": {
        "id": "YIBjg6dyY0jd"
      },
      "outputs": [],
      "source": []
    },
    {
      "cell_type": "markdown",
      "metadata": {
        "id": "MD7Mmsv8Y0jd"
      },
      "source": [
        "## Description"
      ]
    },
    {
      "cell_type": "markdown",
      "metadata": {
        "id": "ru8r1o1NY0jd"
      },
      "source": [
        "```\n",
        "convert = F.udf(lambda x: \"-\".join(x), StringType())   \n",
        "```\n",
        "An auxiliary function for converting a list to a string.\n",
        "\n",
        "```\n",
        "(\n",
        "    df_clickstream\n",
        "    .withColumn(\"is_error\", F.col(\"event_type\").contains(\"error\"))\n",
        "    .filter(\"is_error == True\")\n",
        "    .select(\"user_id\", \"session_id\", \"timestamp\", \"is_error\")\n",
        ")\n",
        "```\n",
        "Creating an auxiliary dataset with errors for their subsequent accounting in calculations.\n",
        "\n",
        "More about creating a df_error:\n",
        "\n",
        "**.withColumn(\"is_error\", F.col(\"event_type\").contains(\"error\"))**\n",
        "- creating a column with errors\n",
        "\n",
        "**.filter(\"is_error == True\")**\n",
        "- leaving only the data with the error\n",
        "\n",
        "**.select(\"user_id\", \"session_id\", \"timestamp\", \"is_error\")**\n",
        "- leaving only the data required for the solution"
      ]
    },
    {
      "cell_type": "code",
      "execution_count": null,
      "metadata": {
        "id": "nm8BZGx8Y0jd",
        "outputId": "73e68168-f554-4d74-cbf8-e6702f39d7c6",
        "tags": []
      },
      "outputs": [
        {
          "name": "stdout",
          "output_type": "stream",
          "text": [
            "+-------+----------+----------+--------+\n",
            "|user_id|session_id| timestamp|is_error|\n",
            "+-------+----------+----------+--------+\n",
            "|    562|       507|1695584154|    true|\n",
            "|   4567|       514|1695584351|    true|\n",
            "|    461|       174|1695584529|    true|\n",
            "|    844|       258|1695584652|    true|\n",
            "|    461|       174|1695584698|    true|\n",
            "|    805|       626|1695585321|    true|\n",
            "|   4567|       514|1695586124|    true|\n",
            "|   3972|        31|1695586342|    true|\n",
            "|    512|       781|1695586400|    true|\n",
            "|    512|       781|1695586562|    true|\n",
            "+-------+----------+----------+--------+\n",
            "only showing top 10 rows\n",
            "\n"
          ]
        }
      ],
      "source": [
        "#example\n",
        "df_error.show(10)"
      ]
    },
    {
      "cell_type": "markdown",
      "metadata": {
        "id": "xayW5qVUY0jd"
      },
      "source": [
        "\n",
        "```\n",
        "(\n",
        "    df_clickstream\n",
        "    .alias(\"cl\")\n",
        "    .withColumn(\"next_event\",\n",
        "                F.lag(\"event_page\",1)\n",
        "                .over(Window.partitionBy(\"user_id\", \"session_id\").orderBy(\"timestamp\")))\n",
        "    .join(df_error.alias(\"err\"),\n",
        "          (F.col(\"cl.user_id\") == F.col(\"err.user_id\")) &\n",
        "          (F.col(\"cl.session_id\") == F.col(\"err.session_id\")) &\n",
        "          (F.col(\"cl.timestamp\") >= F.col(\"err.timestamp\")),\n",
        "         how = \"left\")\n",
        "    .filter(\"is_error is null\")\n",
        "    .filter(\"next_event <> event_page OR next_event is null\")\n",
        "    .groupby('cl.user_id', 'cl.session_id')\n",
        "    .agg(F.collect_list(\"event_page\").alias(\"route\"))\n",
        "    .withColumn(\"route\", convert(F.col(\"route\")))\n",
        "    .groupby(\"route\")\n",
        "    .count()\n",
        "    .sort(F.desc(\"count\"))\n",
        "    .show(30, False)\n",
        ")\n",
        "```\n",
        "The main part:\n",
        "\n",
        "**.alias(\"cl\")**\n",
        "- Creating an alias to use the columns of this table in the future\n",
        "\n",
        "**.withColumn(\"next_event\",\n",
        "        F.lag(\"event_page\", 1)\n",
        "        .over(Window.partitionBy(\"user_id\", \"session_id\").orderBy(\"timestamp\")))**\n",
        "- Shifting the event_page column down one element to match the current event with a future event. We write the new data to the next_event column.\n",
        "\n",
        "**.join(df_error.alias(\"err\"),\n",
        "      (F.col(\"cl.user_id\") == F.col(\"err.user_id\")) &\n",
        "      (F.col(\"cl.session_id\") == F.col(\"err.session_id\")) &\n",
        "      (F.col(\"cl.timestamp\") >= F.col(\"err.timestamp\")),\n",
        "     how = \"left\")**\n",
        "- Joining the current table with the table with errors by the user's session, filling in the events for the client's session with errors during and after the error.\n",
        "\n",
        "**.filter(\"is_error is null\")**\n",
        "- Leaving only the events without error.\n",
        "\n",
        "**.filter(\"next_event <> event_page OR next_event is null\")**\n",
        "- Leaving the events with the first page and with the page change.\n",
        "\n",
        "**.groupby('cl.user_id', 'cl.session_id')**\n",
        "- Grouping them by the client's session.\n",
        "\n",
        "**.agg(F.collect_list(\"event_page\").alias(\"route\"))**\n",
        "- Collecting events from the client's session into the routes.\n",
        "\n",
        "**.withColumn(\"route\", convert(F.col(\"route\")))**\n",
        "- Converting a list to a string.\n",
        "\n",
        "**.groupby(\"route\")**\n",
        "- Grouping by the routes.\n",
        "\n",
        "**.count()**\n",
        "- Counting the number of routes.\n",
        "\n",
        "**.sort(F.desc(\"count\"))**\n",
        "- Sorting in descending order of quantity\n",
        "\n",
        "**.show(30, False)**\n",
        "- Bringing out the top 30"
      ]
    },
    {
      "cell_type": "code",
      "execution_count": null,
      "metadata": {
        "id": "ZObAy3Z8Y0jd"
      },
      "outputs": [],
      "source": []
    },
    {
      "cell_type": "markdown",
      "metadata": {
        "id": "VZpSjH8hY0je"
      },
      "source": [
        "# Checking in the grader. Everything is OK."
      ]
    },
    {
      "cell_type": "markdown",
      "metadata": {
        "id": "95iMxsQiY0je"
      },
      "source": [
        "![image.png](data:image/png;base64,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)"
      ]
    },
    {
      "cell_type": "code",
      "execution_count": null,
      "metadata": {
        "id": "uUhVlBltY0je"
      },
      "outputs": [],
      "source": []
    },
    {
      "cell_type": "markdown",
      "metadata": {
        "id": "iGcUeYk0RrUy"
      },
      "source": [
        "# Extra questions"
      ]
    },
    {
      "cell_type": "markdown",
      "metadata": {
        "id": "rKT7x54ERrUy"
      },
      "source": [
        "## Why DF and SQL solutions differ?"
      ]
    },
    {
      "cell_type": "markdown",
      "metadata": {
        "id": "c-YArR3RRrUz"
      },
      "source": [
        "Solutions for DF and SQL may differ from each other for the following reasons:\n",
        "\n",
        "- logical filtering\n",
        "\n",
        "In my case, this was the reason for the difference, so slightly different was the filtering logic, the placement of parentheses\n",
        "\n",
        "(in SQL\n",
        "```\n",
        "is_error IS NULL\n",
        "AND NOT event_page = next_event\n",
        "OR next_event IS NULL\n",
        "```\n",
        ",in DF\n",
        "```\n",
        ".filter(\"is_error is null\")\n",
        ".filter(\"next_event <> event_page OR next_event is null\")\n",
        "```\n",
        "correct SQL:\n",
        "```\n",
        "is_error IS NULL\n",
        "AND (event_page != next_event\n",
        "OR next_event IS NULL)\n",
        "```\n",
        ")\n",
        "\n",
        "- merge parameters\n",
        "\n",
        "In my case, they are the same.\n",
        "\n",
        "- filtering logic\n",
        "- aggregation logic\n",
        "- differences in the behavior of functions\n",
        "\n",
        "The three above reasons are checked during the code implementation process at intermediate stages.\n",
        "\n",
        "- Differences in optimization strategy using Spark's Catalyst Optimizer\n",
        "\n",
        "Perhaps there is an impact with differences in strategies, but in my case I did not notice such an impact.\n",
        "\n",
        "The corrected code is shown below."
      ]
    },
    {
      "cell_type": "code",
      "execution_count": null,
      "metadata": {
        "tags": [],
        "id": "pqRhyE_jRrUz"
      },
      "outputs": [],
      "source": [
        "sql30 = se.sql(\n",
        "\"\"\"\n",
        "WITH cte_error AS (\n",
        "    SELECT\n",
        "        user_id,\n",
        "        session_id,\n",
        "        timestamp,\n",
        "        True is_error\n",
        "    FROM\n",
        "        clickstream\n",
        "    WHERE\n",
        "        event_type LIKE \"%error%\"),\n",
        "\n",
        "    cte_shift_event AS (\n",
        "    SELECT\n",
        "        user_id,\n",
        "        session_id,\n",
        "        event_type,\n",
        "        event_page,\n",
        "        timestamp,\n",
        "        LAG(event_page) OVER (PARTITION BY user_id, session_id ORDER BY timestamp ASC) next_event\n",
        "    FROM\n",
        "        clickstream),\n",
        "\n",
        "    cte_join_error_and_shift_event AS (\n",
        "    SELECT\n",
        "        cl.user_id,\n",
        "        cl.session_id,\n",
        "        cl.event_type,\n",
        "        cl.event_page,\n",
        "        cl.timestamp,\n",
        "        cl.next_event,\n",
        "        err.is_error\n",
        "    FROM cte_shift_event cl\n",
        "    LEFT JOIN cte_error err\n",
        "    ON\n",
        "        cl.user_id = err.user_id\n",
        "        AND cl.session_id = err.session_id\n",
        "        AND cl.timestamp >= err.timestamp),\n",
        "\n",
        "    cte_event_without_error AS (\n",
        "    SELECT\n",
        "        user_id,\n",
        "        session_id,\n",
        "        event_page\n",
        "    FROM cte_join_error_and_shift_event\n",
        "    WHERE\n",
        "        is_error IS NULL\n",
        "        AND (event_page != next_event\n",
        "        OR next_event IS NULL)),\n",
        "\n",
        "    cte_routes AS (\n",
        "    SELECT\n",
        "        CONCAT_WS('-', COLLECT_LIST(event_page)) route\n",
        "    FROM\n",
        "        cte_event_without_error\n",
        "    GROUP BY\n",
        "        user_id, session_id\n",
        "    ORDER\n",
        "        BY user_id, session_id)\n",
        "\n",
        "SELECT\n",
        "    route,\n",
        "    COUNT(*) count\n",
        "FROM\n",
        "    cte_routes\n",
        "GROUP BY\n",
        "    route\n",
        "ORDER BY\n",
        "    count DESC\n",
        "LIMIT 30;\n",
        "\"\"\"\n",
        ")"
      ]
    },
    {
      "cell_type": "code",
      "execution_count": null,
      "metadata": {
        "outputId": "10b2f94e-3ded-4865-de76-2ec2280a30c1",
        "tags": [],
        "id": "Kzc5TMf9RrU0"
      },
      "outputs": [
        {
          "name": "stderr",
          "output_type": "stream",
          "text": [
            "                                                                                \r"
          ]
        },
        {
          "data": {
            "text/html": [
              "<div>\n",
              "<style scoped>\n",
              "    .dataframe tbody tr th:only-of-type {\n",
              "        vertical-align: middle;\n",
              "    }\n",
              "\n",
              "    .dataframe tbody tr th {\n",
              "        vertical-align: top;\n",
              "    }\n",
              "\n",
              "    .dataframe thead th {\n",
              "        text-align: right;\n",
              "    }\n",
              "</style>\n",
              "<table border=\"1\" class=\"dataframe\">\n",
              "  <thead>\n",
              "    <tr style=\"text-align: right;\">\n",
              "      <th></th>\n",
              "      <th>route</th>\n",
              "      <th>count</th>\n",
              "    </tr>\n",
              "  </thead>\n",
              "  <tbody>\n",
              "    <tr>\n",
              "      <th>0</th>\n",
              "      <td>main</td>\n",
              "      <td>8184</td>\n",
              "    </tr>\n",
              "    <tr>\n",
              "      <th>1</th>\n",
              "      <td>main-archive</td>\n",
              "      <td>1111</td>\n",
              "    </tr>\n",
              "    <tr>\n",
              "      <th>2</th>\n",
              "      <td>main-rabota</td>\n",
              "      <td>1045</td>\n",
              "    </tr>\n",
              "    <tr>\n",
              "      <th>3</th>\n",
              "      <td>main-internet</td>\n",
              "      <td>896</td>\n",
              "    </tr>\n",
              "    <tr>\n",
              "      <th>4</th>\n",
              "      <td>main-bonus</td>\n",
              "      <td>870</td>\n",
              "    </tr>\n",
              "    <tr>\n",
              "      <th>5</th>\n",
              "      <td>main-news</td>\n",
              "      <td>769</td>\n",
              "    </tr>\n",
              "    <tr>\n",
              "      <th>6</th>\n",
              "      <td>main-tariffs</td>\n",
              "      <td>677</td>\n",
              "    </tr>\n",
              "    <tr>\n",
              "      <th>7</th>\n",
              "      <td>main-online</td>\n",
              "      <td>587</td>\n",
              "    </tr>\n",
              "    <tr>\n",
              "      <th>8</th>\n",
              "      <td>main-vklad</td>\n",
              "      <td>518</td>\n",
              "    </tr>\n",
              "    <tr>\n",
              "      <th>9</th>\n",
              "      <td>main-rabota-archive</td>\n",
              "      <td>170</td>\n",
              "    </tr>\n",
              "    <tr>\n",
              "      <th>10</th>\n",
              "      <td>main-archive-rabota</td>\n",
              "      <td>167</td>\n",
              "    </tr>\n",
              "    <tr>\n",
              "      <th>11</th>\n",
              "      <td>main-bonus-archive</td>\n",
              "      <td>143</td>\n",
              "    </tr>\n",
              "    <tr>\n",
              "      <th>12</th>\n",
              "      <td>main-rabota-bonus</td>\n",
              "      <td>139</td>\n",
              "    </tr>\n",
              "    <tr>\n",
              "      <th>13</th>\n",
              "      <td>main-news-rabota</td>\n",
              "      <td>135</td>\n",
              "    </tr>\n",
              "    <tr>\n",
              "      <th>14</th>\n",
              "      <td>main-bonus-rabota</td>\n",
              "      <td>135</td>\n",
              "    </tr>\n",
              "    <tr>\n",
              "      <th>15</th>\n",
              "      <td>main-archive-internet</td>\n",
              "      <td>132</td>\n",
              "    </tr>\n",
              "    <tr>\n",
              "      <th>16</th>\n",
              "      <td>main-rabota-news</td>\n",
              "      <td>130</td>\n",
              "    </tr>\n",
              "    <tr>\n",
              "      <th>17</th>\n",
              "      <td>main-internet-rabota</td>\n",
              "      <td>129</td>\n",
              "    </tr>\n",
              "    <tr>\n",
              "      <th>18</th>\n",
              "      <td>main-archive-news</td>\n",
              "      <td>126</td>\n",
              "    </tr>\n",
              "    <tr>\n",
              "      <th>19</th>\n",
              "      <td>main-rabota-internet</td>\n",
              "      <td>124</td>\n",
              "    </tr>\n",
              "    <tr>\n",
              "      <th>20</th>\n",
              "      <td>main-internet-archive</td>\n",
              "      <td>123</td>\n",
              "    </tr>\n",
              "    <tr>\n",
              "      <th>21</th>\n",
              "      <td>main-archive-bonus</td>\n",
              "      <td>117</td>\n",
              "    </tr>\n",
              "    <tr>\n",
              "      <th>22</th>\n",
              "      <td>main-internet-bonus</td>\n",
              "      <td>115</td>\n",
              "    </tr>\n",
              "    <tr>\n",
              "      <th>23</th>\n",
              "      <td>main-tariffs-internet</td>\n",
              "      <td>114</td>\n",
              "    </tr>\n",
              "    <tr>\n",
              "      <th>24</th>\n",
              "      <td>main-news-archive</td>\n",
              "      <td>113</td>\n",
              "    </tr>\n",
              "    <tr>\n",
              "      <th>25</th>\n",
              "      <td>main-news-internet</td>\n",
              "      <td>109</td>\n",
              "    </tr>\n",
              "    <tr>\n",
              "      <th>26</th>\n",
              "      <td>main-archive-tariffs</td>\n",
              "      <td>104</td>\n",
              "    </tr>\n",
              "    <tr>\n",
              "      <th>27</th>\n",
              "      <td>main-internet-news</td>\n",
              "      <td>103</td>\n",
              "    </tr>\n",
              "    <tr>\n",
              "      <th>28</th>\n",
              "      <td>main-tariffs-archive</td>\n",
              "      <td>103</td>\n",
              "    </tr>\n",
              "    <tr>\n",
              "      <th>29</th>\n",
              "      <td>main-rabota-main</td>\n",
              "      <td>94</td>\n",
              "    </tr>\n",
              "  </tbody>\n",
              "</table>\n",
              "</div>"
            ],
            "text/plain": [
              "                    route  count\n",
              "0                    main   8184\n",
              "1            main-archive   1111\n",
              "2             main-rabota   1045\n",
              "3           main-internet    896\n",
              "4              main-bonus    870\n",
              "5               main-news    769\n",
              "6            main-tariffs    677\n",
              "7             main-online    587\n",
              "8              main-vklad    518\n",
              "9     main-rabota-archive    170\n",
              "10    main-archive-rabota    167\n",
              "11     main-bonus-archive    143\n",
              "12      main-rabota-bonus    139\n",
              "13       main-news-rabota    135\n",
              "14      main-bonus-rabota    135\n",
              "15  main-archive-internet    132\n",
              "16       main-rabota-news    130\n",
              "17   main-internet-rabota    129\n",
              "18      main-archive-news    126\n",
              "19   main-rabota-internet    124\n",
              "20  main-internet-archive    123\n",
              "21     main-archive-bonus    117\n",
              "22    main-internet-bonus    115\n",
              "23  main-tariffs-internet    114\n",
              "24      main-news-archive    113\n",
              "25     main-news-internet    109\n",
              "26   main-archive-tariffs    104\n",
              "27     main-internet-news    103\n",
              "28   main-tariffs-archive    103\n",
              "29       main-rabota-main     94"
            ]
          },
          "execution_count": 12,
          "metadata": {},
          "output_type": "execute_result"
        }
      ],
      "source": [
        "sql30.toPandas()"
      ]
    },
    {
      "cell_type": "code",
      "execution_count": null,
      "metadata": {
        "outputId": "bf93fcd8-bbe2-4e5c-acfe-735b8da15844",
        "tags": [],
        "id": "LvMFsaoLRrU0"
      },
      "outputs": [
        {
          "name": "stderr",
          "output_type": "stream",
          "text": [
            "[Stage 18:===================================================>    (12 + 1) / 13]\r"
          ]
        },
        {
          "name": "stdout",
          "output_type": "stream",
          "text": [
            "+---------------------+-----+\n",
            "|route                |count|\n",
            "+---------------------+-----+\n",
            "|main                 |8184 |\n",
            "|main-archive         |1111 |\n",
            "|main-rabota          |1045 |\n",
            "|main-internet        |896  |\n",
            "|main-bonus           |870  |\n",
            "|main-news            |769  |\n",
            "|main-tariffs         |677  |\n",
            "|main-online          |587  |\n",
            "|main-vklad           |518  |\n",
            "|main-rabota-archive  |170  |\n",
            "|main-archive-rabota  |167  |\n",
            "|main-bonus-archive   |143  |\n",
            "|main-rabota-bonus    |139  |\n",
            "|main-news-rabota     |135  |\n",
            "|main-bonus-rabota    |135  |\n",
            "|main-archive-internet|132  |\n",
            "|main-rabota-news     |130  |\n",
            "|main-internet-rabota |129  |\n",
            "|main-archive-news    |126  |\n",
            "|main-rabota-internet |124  |\n",
            "|main-internet-archive|123  |\n",
            "|main-archive-bonus   |117  |\n",
            "|main-internet-bonus  |115  |\n",
            "|main-tariffs-internet|114  |\n",
            "|main-news-archive    |113  |\n",
            "|main-news-internet   |109  |\n",
            "|main-archive-tariffs |104  |\n",
            "|main-internet-news   |103  |\n",
            "|main-tariffs-archive |103  |\n",
            "|main-rabota-main     |94   |\n",
            "+---------------------+-----+\n",
            "only showing top 30 rows\n",
            "\n",
            "CPU times: user 52.2 ms, sys: 5.67 ms, total: 57.9 ms\n",
            "Wall time: 9.27 s\n"
          ]
        },
        {
          "name": "stderr",
          "output_type": "stream",
          "text": [
            "                                                                                \r"
          ]
        }
      ],
      "source": [
        "%%time\n",
        "\n",
        "df30.show(30, False)"
      ]
    },
    {
      "cell_type": "code",
      "execution_count": null,
      "metadata": {
        "tags": [],
        "id": "kINtZIRVRrU0",
        "outputId": "78f39c94-21b6-49ec-b4fe-90a5606b44bb"
      },
      "outputs": [
        {
          "name": "stderr",
          "output_type": "stream",
          "text": [
            "                                                                                \r"
          ]
        },
        {
          "name": "stdout",
          "output_type": "stream",
          "text": [
            "+--------------------+----+----+\n",
            "|               route|  df| sql|\n",
            "+--------------------+----+----+\n",
            "|                main|8184|8184|\n",
            "|        main-archive|1111|1111|\n",
            "|         main-rabota|1045|1045|\n",
            "|       main-internet| 896| 896|\n",
            "|          main-bonus| 870| 870|\n",
            "|           main-news| 769| 769|\n",
            "|        main-tariffs| 677| 677|\n",
            "|         main-online| 587| 587|\n",
            "|          main-vklad| 518| 518|\n",
            "| main-rabota-archive| 170| 170|\n",
            "| main-archive-rabota| 167| 167|\n",
            "|  main-bonus-archive| 143| 143|\n",
            "|   main-rabota-bonus| 139| 139|\n",
            "|    main-news-rabota| 135| 135|\n",
            "|   main-bonus-rabota| 135| 135|\n",
            "|main-archive-inte...| 132| 132|\n",
            "|    main-rabota-news| 130| 130|\n",
            "|main-internet-rabota| 129| 129|\n",
            "|   main-archive-news| 126| 126|\n",
            "|main-rabota-internet| 124| 124|\n",
            "|main-internet-arc...| 123| 123|\n",
            "|  main-archive-bonus| 117| 117|\n",
            "| main-internet-bonus| 115| 115|\n",
            "|main-tariffs-inte...| 114| 114|\n",
            "|   main-news-archive| 113| 113|\n",
            "|  main-news-internet| 109| 109|\n",
            "|main-archive-tariffs| 104| 104|\n",
            "|  main-internet-news| 103| 103|\n",
            "|main-tariffs-archive| 103| 103|\n",
            "|    main-rabota-main|  94|  94|\n",
            "+--------------------+----+----+\n",
            "\n"
          ]
        }
      ],
      "source": [
        "df30.withColumnRenamed('count','df').join(sql30.withColumnRenamed('count','sql'), on='route').sort(F.desc('df')).show(30)"
      ]
    },
    {
      "cell_type": "code",
      "execution_count": null,
      "metadata": {
        "id": "7gGSoCNRRrU0"
      },
      "outputs": [],
      "source": []
    },
    {
      "cell_type": "markdown",
      "metadata": {
        "id": "FlnOEPdsRrU1"
      },
      "source": [
        "## How can we speed-up the solution DF?"
      ]
    },
    {
      "cell_type": "markdown",
      "metadata": {
        "id": "zGvWo9WARrU1"
      },
      "source": [
        "I suggest the following improvements speed-up the solution:\n",
        "\n",
        "- exclude Join\n",
        "\n",
        "The join operation can consume a large number of resources. Let's try to replace it with a window function, along with creating a separate df_error and merging, using Window to add eror_timestamp to df_click stream.\n",
        "\n",
        "In the code:\n",
        "\n",
        "```\n",
        "error_window = Window.partitionBy(\"user_id\", \"session_id\").orderBy(\"timestamp\")\n",
        "\n",
        ".withColumn(\"error_timestamp\", F.min(F.when(F.col(\"event_type\").contains(\"error\"), F.col(\"timestamp\"))).over(error_window))\n",
        "```\n",
        "- exclude UDF\n",
        "\n",
        "Instead of UDF, you can use the built-in Spark functions. The built-in functions work faster because UDF provides a serialization/deserialization layer and line-by-line operations. Use concat_ws instead of convert.\n",
        "\n",
        "- reduce the amount of data in the initial stages by using select\n",
        "\n",
        "The code below applies these improvements."
      ]
    },
    {
      "cell_type": "code",
      "execution_count": null,
      "metadata": {
        "id": "qt5ISx3bRrU1"
      },
      "outputs": [],
      "source": [
        "#old"
      ]
    },
    {
      "cell_type": "code",
      "execution_count": null,
      "metadata": {
        "tags": [],
        "id": "tWfTEFx7RrU1",
        "outputId": "a0df8434-cba3-4355-eff7-bd3c8a9cbce6"
      },
      "outputs": [
        {
          "name": "stderr",
          "output_type": "stream",
          "text": [
            "[Stage 127:===================================================>   (13 + 1) / 14]\r"
          ]
        },
        {
          "name": "stdout",
          "output_type": "stream",
          "text": [
            "+---------------------+-----+\n",
            "|route                |count|\n",
            "+---------------------+-----+\n",
            "|main                 |8184 |\n",
            "|main-archive         |1112 |\n",
            "|main-rabota          |1047 |\n",
            "|main-internet        |895  |\n",
            "|main-bonus           |870  |\n",
            "|main-news            |769  |\n",
            "|main-tariffs         |676  |\n",
            "|main-online          |586  |\n",
            "|main-vklad           |517  |\n",
            "|main-rabota-archive  |170  |\n",
            "|main-archive-rabota  |167  |\n",
            "|main-bonus-archive   |143  |\n",
            "|main-rabota-bonus    |139  |\n",
            "|main-news-rabota     |135  |\n",
            "|main-bonus-rabota    |135  |\n",
            "|main-archive-internet|132  |\n",
            "|main-rabota-news     |130  |\n",
            "|main-internet-rabota |129  |\n",
            "|main-archive-news    |126  |\n",
            "|main-rabota-internet |124  |\n",
            "|main-internet-archive|123  |\n",
            "|main-archive-bonus   |117  |\n",
            "|main-internet-bonus  |115  |\n",
            "|main-tariffs-internet|114  |\n",
            "|main-news-archive    |113  |\n",
            "|main-news-internet   |109  |\n",
            "|main-archive-tariffs |104  |\n",
            "|main-internet-news   |103  |\n",
            "|main-tariffs-archive |103  |\n",
            "|main-rabota-main     |94   |\n",
            "+---------------------+-----+\n",
            "only showing top 30 rows\n",
            "\n",
            "CPU times: user 36 ms, sys: 14.7 ms, total: 50.7 ms\n",
            "Wall time: 9.72 s\n"
          ]
        },
        {
          "name": "stderr",
          "output_type": "stream",
          "text": [
            "                                                                                \r"
          ]
        }
      ],
      "source": [
        "%%time\n",
        "\n",
        "df30.show(30, False)"
      ]
    },
    {
      "cell_type": "code",
      "execution_count": null,
      "metadata": {
        "id": "U96SYhxaRrU1"
      },
      "outputs": [],
      "source": [
        "#new"
      ]
    },
    {
      "cell_type": "code",
      "execution_count": null,
      "metadata": {
        "tags": [],
        "id": "LKZlFukoRrU2",
        "outputId": "f5eb310e-8875-4d02-9ba5-f7ac359f30c8"
      },
      "outputs": [
        {
          "name": "stderr",
          "output_type": "stream",
          "text": [
            "[Stage 29:================================================>       (12 + 2) / 14]\r"
          ]
        },
        {
          "name": "stdout",
          "output_type": "stream",
          "text": [
            "+---------------------+-----+\n",
            "|route                |count|\n",
            "+---------------------+-----+\n",
            "|main                 |8184 |\n",
            "|main-archive         |1112 |\n",
            "|main-rabota          |1047 |\n",
            "|main-internet        |895  |\n",
            "|main-bonus           |870  |\n",
            "|main-news            |769  |\n",
            "|main-tariffs         |676  |\n",
            "|main-online          |586  |\n",
            "|main-vklad           |517  |\n",
            "|main-rabota-archive  |170  |\n",
            "|main-archive-rabota  |167  |\n",
            "|main-bonus-archive   |143  |\n",
            "|main-rabota-bonus    |139  |\n",
            "|main-news-rabota     |135  |\n",
            "|main-bonus-rabota    |135  |\n",
            "|main-archive-internet|132  |\n",
            "|main-rabota-news     |130  |\n",
            "|main-internet-rabota |129  |\n",
            "|main-archive-news    |126  |\n",
            "|main-rabota-internet |124  |\n",
            "|main-internet-archive|123  |\n",
            "|main-archive-bonus   |117  |\n",
            "|main-internet-bonus  |115  |\n",
            "|main-tariffs-internet|114  |\n",
            "|main-news-archive    |113  |\n",
            "|main-news-internet   |109  |\n",
            "|main-archive-tariffs |104  |\n",
            "|main-internet-news   |103  |\n",
            "|main-tariffs-archive |103  |\n",
            "|main-rabota-main     |94   |\n",
            "+---------------------+-----+\n",
            "only showing top 30 rows\n",
            "\n",
            "CPU times: user 27.9 ms, sys: 13.4 ms, total: 41.3 ms\n",
            "Wall time: 3.63 s\n"
          ]
        },
        {
          "name": "stderr",
          "output_type": "stream",
          "text": [
            "                                                                                \r"
          ]
        }
      ],
      "source": [
        "%%time\n",
        "\n",
        "error_window = Window.partitionBy(\"user_id\", \"session_id\").orderBy(\"timestamp\")\n",
        "\n",
        "df30 = (\n",
        "    df_clickstream\n",
        "    .select(\"user_id\", \"session_id\", \"event_type\", \"event_page\", \"timestamp\")\n",
        "    .withColumn(\"error_timestamp\", F.min(F.when(F.col(\"event_type\").contains(\"error\"), F.col(\"timestamp\"))).over(error_window))\n",
        "    .filter((F.col(\"error_timestamp\").isNull()) | (F.col(\"timestamp\") < F.col(\"error_timestamp\")))\n",
        "    .withColumn(\"prev_event_page\", F.lag(\"event_page\").over(error_window))\n",
        "    .filter((F.col(\"prev_event_page\").isNull()) | (F.col(\"event_page\") != F.col(\"prev_event_page\")))\n",
        "    .groupBy(\"user_id\", \"session_id\").agg(F.concat_ws(\"-\", F.collect_list(\"event_page\")).alias(\"route\"))\n",
        "    .groupby(\"route\")\n",
        "    .count()\n",
        "    .sort(F.desc(\"count\"))\n",
        ")\n",
        "df30.show(30, False)"
      ]
    },
    {
      "cell_type": "code",
      "execution_count": null,
      "metadata": {
        "id": "vz-FrUOeRrU2"
      },
      "outputs": [],
      "source": []
    }
  ],
  "metadata": {
    "colab": {
      "provenance": [],
      "collapsed_sections": [
        "bovNedwSY0jT",
        "BLk7IuPoY0jZ",
        "2hEkppUxY0jc",
        "VZpSjH8hY0je"
      ],
      "toc_visible": true
    },
    "coursera": {
      "schema_names": [
        "week-4-spark-homework"
      ]
    },
    "kernelspec": {
      "display_name": "Python 3 (ipykernel)",
      "language": "python",
      "name": "python3"
    },
    "language_info": {
      "codemirror_mode": {
        "name": "ipython",
        "version": 3
      },
      "file_extension": ".py",
      "mimetype": "text/x-python",
      "name": "python",
      "nbconvert_exporter": "python",
      "pygments_lexer": "ipython3",
      "version": "3.10.9"
    },
    "vscode": {
      "interpreter": {
        "hash": "31f2aee4e71d21fbe5cf8b01ff0e069b9275f58929596ceb00d14d90e3e16cd6"
      }
    }
  },
  "nbformat": 4,
  "nbformat_minor": 0
}